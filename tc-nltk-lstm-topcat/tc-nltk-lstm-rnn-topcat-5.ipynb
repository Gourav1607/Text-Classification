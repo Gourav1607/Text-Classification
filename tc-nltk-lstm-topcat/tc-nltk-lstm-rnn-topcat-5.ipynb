{
 "cells": [
  {
   "cell_type": "code",
   "execution_count": 1,
   "metadata": {},
   "outputs": [],
   "source": [
    "# Text Classification / tc-nltk-lstm-rnn-topcat-5.ipynb\n",
    "# Gourav Siddhad\n",
    "# 25-Mar-2019"
   ]
  },
  {
   "cell_type": "code",
   "execution_count": 19,
   "metadata": {},
   "outputs": [
    {
     "name": "stdout",
     "output_type": "stream",
     "text": [
      "Importing Libraries - Done\n"
     ]
    }
   ],
   "source": [
    "print('Importing Libraries', end='')\n",
    "\n",
    "import pandas as pd\n",
    "import numpy as np\n",
    "from numpy.random import seed\n",
    "import re\n",
    "import os\n",
    "import pandas as pd\n",
    "import time\n",
    "\n",
    "import matplotlib.pyplot as plt\n",
    "\n",
    "import seaborn as sns\n",
    "\n",
    "import nltk\n",
    "from nltk import word_tokenize\n",
    "from nltk.corpus import reuters, stopwords\n",
    "from nltk.stem.porter import PorterStemmer\n",
    "\n",
    "from sklearn.model_selection import train_test_split\n",
    "from sklearn.preprocessing import LabelEncoder\n",
    "\n",
    "from sklearn.feature_extraction.text import TfidfVectorizer, CountVectorizer\n",
    "from sklearn.preprocessing import MultiLabelBinarizer, minmax_scale\n",
    "from sklearn.metrics import accuracy_score, confusion_matrix, roc_curve, auc\n",
    "from sklearn.model_selection import train_test_split\n",
    "\n",
    "from keras.models import Model, model_from_json, load_model\n",
    "from keras.layers import LSTM, Activation, Dense, Dropout, Input, Embedding\n",
    "from keras.optimizers import RMSprop\n",
    "from keras.preprocessing.text import Tokenizer\n",
    "from keras.preprocessing import sequence\n",
    "from keras.utils import to_categorical, plot_model\n",
    "from keras.callbacks import EarlyStopping, ModelCheckpoint\n",
    "\n",
    "%matplotlib inline\n",
    "\n",
    "from scipy import interp\n",
    "from itertools import cycle\n",
    "\n",
    "print(' - Done')"
   ]
  },
  {
   "cell_type": "code",
   "execution_count": 3,
   "metadata": {},
   "outputs": [
    {
     "name": "stdout",
     "output_type": "stream",
     "text": [
      "Total Documents - 10788\n",
      "Extracting (Id, Docs and Labels) - Done\n",
      "Documents -  10788\n",
      "Labels  -  10788\n",
      "Categories -  90\n",
      "Caching Stop Words - Done\n"
     ]
    }
   ],
   "source": [
    "documents = reuters.fileids()\n",
    "print('Total Documents -', len(documents))\n",
    "\n",
    "print('Extracting (Id, Docs and Labels)', end='')\n",
    "train_docs_id = list(filter(lambda doc: doc.startswith(\"train\"), documents))\n",
    "test_docs_id = list(filter(lambda doc: doc.startswith(\"test\"), documents))\n",
    "\n",
    "train_docs = [reuters.raw(doc_id) for doc_id in train_docs_id]\n",
    "test_docs = [reuters.raw(doc_id) for doc_id in test_docs_id]\n",
    "all_docs = train_docs\n",
    "all_docs += test_docs\n",
    "\n",
    "train_labels = [reuters.categories(doc_id) for doc_id in train_docs_id]\n",
    "test_labels  = [reuters.categories(doc_id) for doc_id in test_docs_id]\n",
    "all_labels = train_labels\n",
    "all_labels += test_labels\n",
    "print(' - Done')\n",
    "\n",
    "del train_docs\n",
    "del test_docs\n",
    "del train_labels\n",
    "del test_labels\n",
    "\n",
    "print('Documents - ', len(all_docs))\n",
    "print('Labels  - ', len(all_labels))\n",
    "\n",
    "# List of categories\n",
    "categories = reuters.categories()\n",
    "print('Categories - ', len(categories))\n",
    "\n",
    "print('Caching Stop Words', end='')\n",
    "cachedStopWords = stopwords.words(\"english\")\n",
    "print(' - Done')"
   ]
  },
  {
   "cell_type": "code",
   "execution_count": 4,
   "metadata": {},
   "outputs": [
    {
     "name": "stdout",
     "output_type": "stream",
     "text": [
      "    Category  Count\n",
      "21      earn   3964\n",
      "0        acq   2369\n",
      "46  money-fx    717\n",
      "26     grain    582\n",
      "17     crude    578\n",
      "\n",
      "    Category  Count\n",
      "21      earn   3964\n",
      "0        acq   2369\n",
      "46  money-fx    717\n",
      "26     grain    582\n",
      "17     crude    578\n"
     ]
    }
   ],
   "source": [
    "catcount = dict()\n",
    "topcount = 5\n",
    "\n",
    "for cat in categories:\n",
    "    catcount[cat] = 0\n",
    "\n",
    "for lab in all_labels:\n",
    "    for slab in lab:\n",
    "        catcount[slab] += 1\n",
    "\n",
    "df = pd.DataFrame.from_dict(catcount.items()) # , columns=['Category', 'Count']\n",
    "df.columns = ['Category', 'Count']\n",
    "df = df.sort_values(by=['Count'], ascending=False)\n",
    "print(df.head())\n",
    "print()\n",
    "df1 = df.head(topcount)\n",
    "print(df1.tail())"
   ]
  },
  {
   "cell_type": "code",
   "execution_count": 5,
   "metadata": {},
   "outputs": [
    {
     "name": "stdout",
     "output_type": "stream",
     "text": [
      "Original Data\n",
      "10788 10788\n",
      "\n",
      "Modified data - Using Top 5 Categories\n",
      "8147 8147\n"
     ]
    }
   ],
   "source": [
    "cats = df1['Category']\n",
    "cats = set(cats)\n",
    "\n",
    "new_labels = []\n",
    "new_docs = []\n",
    "\n",
    "for i in range(len(all_labels)):\n",
    "    templab = []\n",
    "    for lab in all_labels[i]:\n",
    "        if lab in cats:\n",
    "            templab.append(lab)\n",
    "    if len(templab) is not 0:\n",
    "        new_labels.append(templab)\n",
    "        new_docs.append(all_docs[i])\n",
    "        \n",
    "print('Original Data')\n",
    "print(len(all_labels), len(all_docs))\n",
    "print()\n",
    "print('Modified data - Using Top', topcount,'Categories')\n",
    "print(len(new_labels), len(new_docs))"
   ]
  },
  {
   "cell_type": "code",
   "execution_count": 6,
   "metadata": {},
   "outputs": [
    {
     "name": "stdout",
     "output_type": "stream",
     "text": [
      "Sorting Train:Test Docs - Done\n",
      "Tokenizing - Done\n"
     ]
    }
   ],
   "source": [
    "print('Sorting Train:Test Docs', end='')\n",
    "X_train, X_test, y_train, y_test = train_test_split(new_docs, new_labels, test_size=0.2, random_state=42)\n",
    "print(' - Done')\n",
    "\n",
    "maxwords = 6000\n",
    "\n",
    "print('Tokenizing', end='')\n",
    "tk = Tokenizer(num_words=maxwords)\n",
    "tk.fit_on_texts(X_train)\n",
    "tk.fit_on_texts(X_test)\n",
    "index_list_train = tk.texts_to_sequences(X_train)\n",
    "index_list_test = tk.texts_to_sequences(X_test)\n",
    "print(' - Done')"
   ]
  },
  {
   "cell_type": "code",
   "execution_count": 7,
   "metadata": {},
   "outputs": [
    {
     "name": "stdout",
     "output_type": "stream",
     "text": [
      "2328\n",
      "2328\n"
     ]
    }
   ],
   "source": [
    "# max of index_list_train\n",
    "# max of index_list_test\n",
    "\n",
    "maxlen = 200\n",
    "\n",
    "for i in index_list_train:\n",
    "    if len(i)>maxlen:\n",
    "        maxlen = len(i)\n",
    "print(maxlen)\n",
    "\n",
    "for i in index_list_test:\n",
    "    if len(i)>maxlen:\n",
    "        maxlen = len(i)\n",
    "print(maxlen)"
   ]
  },
  {
   "cell_type": "code",
   "execution_count": 8,
   "metadata": {},
   "outputs": [
    {
     "name": "stdout",
     "output_type": "stream",
     "text": [
      "Padding Sequences - Done\n",
      "Binarizing MultiLabels - Done\n"
     ]
    }
   ],
   "source": [
    "maxlen = 1600\n",
    "\n",
    "print('Padding Sequences', end='')\n",
    "x_train = sequence.pad_sequences(index_list_train, maxlen=maxlen)\n",
    "x_test = sequence.pad_sequences(index_list_test, maxlen=maxlen)\n",
    "print(' - Done')\n",
    "\n",
    "print('Binarizing MultiLabels', end='')\n",
    "lb = MultiLabelBinarizer()\n",
    "y_train = lb.fit_transform(y_train)\n",
    "y_test = lb.transform(y_test)\n",
    "print(' - Done')"
   ]
  },
  {
   "cell_type": "code",
   "execution_count": 9,
   "metadata": {},
   "outputs": [],
   "source": [
    "del all_docs\n",
    "del all_labels"
   ]
  },
  {
   "cell_type": "code",
   "execution_count": 10,
   "metadata": {},
   "outputs": [],
   "source": [
    "def RNN():\n",
    "    inputs = Input(name='inputs', shape=[maxlen])\n",
    "    layer = Embedding(maxwords, 512, input_length=maxlen)(inputs)\n",
    "    layer = LSTM(256)(layer)\n",
    "    layer = Dense(128, name='FC1')(layer)\n",
    "    layer = Activation('relu')(layer)\n",
    "    layer = Dropout(rate = 0.05)(layer) # rate = 1-keep_prob, keep_prob=0.5\n",
    "    layer = Dense(len(cats), name='out_layer')(layer)\n",
    "    layer = Activation('softmax')(layer)\n",
    "    model = Model(inputs=inputs, outputs=layer)\n",
    "    return model"
   ]
  },
  {
   "cell_type": "code",
   "execution_count": 11,
   "metadata": {},
   "outputs": [
    {
     "name": "stdout",
     "output_type": "stream",
     "text": [
      "_________________________________________________________________\n",
      "Layer (type)                 Output Shape              Param #   \n",
      "=================================================================\n",
      "inputs (InputLayer)          (None, 1600)              0         \n",
      "_________________________________________________________________\n",
      "embedding_1 (Embedding)      (None, 1600, 512)         3072000   \n",
      "_________________________________________________________________\n",
      "lstm_1 (LSTM)                (None, 256)               787456    \n",
      "_________________________________________________________________\n",
      "FC1 (Dense)                  (None, 128)               32896     \n",
      "_________________________________________________________________\n",
      "activation_1 (Activation)    (None, 128)               0         \n",
      "_________________________________________________________________\n",
      "dropout_1 (Dropout)          (None, 128)               0         \n",
      "_________________________________________________________________\n",
      "out_layer (Dense)            (None, 5)                 645       \n",
      "_________________________________________________________________\n",
      "activation_2 (Activation)    (None, 5)                 0         \n",
      "=================================================================\n",
      "Total params: 3,892,997\n",
      "Trainable params: 3,892,997\n",
      "Non-trainable params: 0\n",
      "_________________________________________________________________\n"
     ]
    }
   ],
   "source": [
    "model = RNN()\n",
    "model.summary()\n",
    "# model.compile(loss='categorical_crossentropy', optimizer=RMSprop(lr=0.001), metrics=['accuracy'])\n",
    "model.compile(loss='categorical_crossentropy', optimizer='adam', metrics=['accuracy'])"
   ]
  },
  {
   "cell_type": "code",
   "execution_count": 12,
   "metadata": {},
   "outputs": [
    {
     "name": "stdout",
     "output_type": "stream",
     "text": [
      "Train on 4561 samples, validate on 1956 samples\n",
      "Epoch 1/25\n",
      "4561/4561 [==============================] - 140s 31ms/step - loss: 1.4184 - acc: 0.5468 - val_loss: 1.1667 - val_acc: 0.6431\n",
      "\n",
      "Epoch 00001: val_loss improved from inf to 1.16674, saving model to model-topcat-5-001-0.546810-0.643149.h5\n",
      "Epoch 2/25\n",
      "4561/4561 [==============================] - 134s 29ms/step - loss: 0.8454 - acc: 0.6928 - val_loss: 0.6798 - val_acc: 0.7367\n",
      "\n",
      "Epoch 00002: val_loss improved from 1.16674 to 0.67980, saving model to model-topcat-5-002-0.692831-0.736708.h5\n",
      "Epoch 3/25\n",
      "4561/4561 [==============================] - 133s 29ms/step - loss: 0.4665 - acc: 0.8174 - val_loss: 0.4597 - val_acc: 0.8180\n",
      "\n",
      "Epoch 00003: val_loss improved from 0.67980 to 0.45972, saving model to model-topcat-5-003-0.817365-0.817996.h5\n",
      "Epoch 4/25\n",
      "4561/4561 [==============================] - 136s 30ms/step - loss: 0.3499 - acc: 0.8739 - val_loss: 0.4526 - val_acc: 0.8430\n",
      "\n",
      "Epoch 00004: val_loss improved from 0.45972 to 0.45260, saving model to model-topcat-5-004-0.873931-0.843047.h5\n",
      "Epoch 5/25\n",
      "4561/4561 [==============================] - 134s 29ms/step - loss: 0.2402 - acc: 0.9184 - val_loss: 0.3681 - val_acc: 0.8906\n",
      "\n",
      "Epoch 00005: val_loss improved from 0.45260 to 0.36806, saving model to model-topcat-5-005-0.918439-0.890593.h5\n",
      "Epoch 6/25\n",
      "4561/4561 [==============================] - 133s 29ms/step - loss: 0.1585 - acc: 0.9509 - val_loss: 0.3239 - val_acc: 0.9172\n",
      "\n",
      "Epoch 00006: val_loss improved from 0.36806 to 0.32390, saving model to model-topcat-5-006-0.950888-0.917178.h5\n",
      "Epoch 7/25\n",
      "4561/4561 [==============================] - 134s 29ms/step - loss: 0.0899 - acc: 0.9798 - val_loss: 0.2880 - val_acc: 0.9366\n",
      "\n",
      "Epoch 00007: val_loss improved from 0.32390 to 0.28797, saving model to model-topcat-5-007-0.979829-0.936605.h5\n",
      "Epoch 8/25\n",
      "4561/4561 [==============================] - 132s 29ms/step - loss: 0.0620 - acc: 0.9842 - val_loss: 0.2930 - val_acc: 0.9335\n",
      "\n",
      "Epoch 00008: val_loss did not improve from 0.28797\n",
      "Epoch 9/25\n",
      "4561/4561 [==============================] - 138s 30ms/step - loss: 0.0636 - acc: 0.9875 - val_loss: 0.3198 - val_acc: 0.9269\n",
      "\n",
      "Epoch 00009: val_loss did not improve from 0.28797\n",
      "Epoch 10/25\n",
      "4561/4561 [==============================] - 136s 30ms/step - loss: 0.0410 - acc: 0.9919 - val_loss: 0.3070 - val_acc: 0.9397\n",
      "\n",
      "Epoch 00010: val_loss did not improve from 0.28797\n",
      "Epoch 11/25\n",
      "4561/4561 [==============================] - 138s 30ms/step - loss: 0.0317 - acc: 0.9934 - val_loss: 0.2869 - val_acc: 0.9468\n",
      "\n",
      "Epoch 00011: val_loss improved from 0.28797 to 0.28689, saving model to model-topcat-5-011-0.993422-0.946830.h5\n",
      "Epoch 12/25\n",
      "4561/4561 [==============================] - 137s 30ms/step - loss: 0.0293 - acc: 0.9947 - val_loss: 0.2867 - val_acc: 0.9468\n",
      "\n",
      "Epoch 00012: val_loss improved from 0.28689 to 0.28672, saving model to model-topcat-5-012-0.994738-0.946830.h5\n",
      "Epoch 13/25\n",
      "4561/4561 [==============================] - 132s 29ms/step - loss: 0.0236 - acc: 0.9956 - val_loss: 0.2955 - val_acc: 0.9499\n",
      "\n",
      "Epoch 00013: val_loss did not improve from 0.28672\n",
      "Epoch 14/25\n",
      "4561/4561 [==============================] - 133s 29ms/step - loss: 0.0232 - acc: 0.9943 - val_loss: 0.2947 - val_acc: 0.9479\n",
      "\n",
      "Epoch 00014: val_loss did not improve from 0.28672\n",
      "Epoch 15/25\n",
      "4561/4561 [==============================] - 136s 30ms/step - loss: 0.0638 - acc: 0.9838 - val_loss: 0.3253 - val_acc: 0.9264\n",
      "\n",
      "Epoch 00015: val_loss did not improve from 0.28672\n",
      "Epoch 16/25\n",
      "4561/4561 [==============================] - 136s 30ms/step - loss: 0.0300 - acc: 0.9921 - val_loss: 0.3291 - val_acc: 0.9371\n",
      "\n",
      "Epoch 00016: val_loss did not improve from 0.28672\n",
      "Epoch 17/25\n",
      "4561/4561 [==============================] - 134s 29ms/step - loss: 0.0232 - acc: 0.9947 - val_loss: 0.3332 - val_acc: 0.9387\n",
      "\n",
      "Epoch 00017: val_loss did not improve from 0.28672\n",
      "Epoch 18/25\n",
      "4561/4561 [==============================] - 138s 30ms/step - loss: 0.0205 - acc: 0.9945 - val_loss: 0.3399 - val_acc: 0.9346\n",
      "\n",
      "Epoch 00018: val_loss did not improve from 0.28672\n",
      "Epoch 19/25\n",
      "4561/4561 [==============================] - 138s 30ms/step - loss: 0.0175 - acc: 0.9958 - val_loss: 0.3314 - val_acc: 0.9407\n",
      "\n",
      "Epoch 00019: val_loss did not improve from 0.28672\n",
      "Epoch 20/25\n",
      "4561/4561 [==============================] - 136s 30ms/step - loss: 0.0165 - acc: 0.9974 - val_loss: 0.3431 - val_acc: 0.9351\n",
      "\n",
      "Epoch 00020: val_loss did not improve from 0.28672\n",
      "Epoch 21/25\n",
      "4561/4561 [==============================] - 135s 30ms/step - loss: 0.0156 - acc: 0.9950 - val_loss: 0.3484 - val_acc: 0.9356\n",
      "\n",
      "Epoch 00021: val_loss did not improve from 0.28672\n",
      "Epoch 22/25\n",
      "4561/4561 [==============================] - 134s 29ms/step - loss: 0.0147 - acc: 0.9971 - val_loss: 0.3506 - val_acc: 0.9417\n",
      "\n",
      "Epoch 00022: val_loss did not improve from 0.28672\n",
      "Epoch 23/25\n",
      "4561/4561 [==============================] - 134s 29ms/step - loss: 0.0150 - acc: 0.9963 - val_loss: 0.3530 - val_acc: 0.9361\n",
      "\n",
      "Epoch 00023: val_loss did not improve from 0.28672\n",
      "Epoch 24/25\n",
      "4561/4561 [==============================] - 135s 30ms/step - loss: 0.0161 - acc: 0.9956 - val_loss: 0.3529 - val_acc: 0.9397\n",
      "\n",
      "Epoch 00024: val_loss did not improve from 0.28672\n",
      "Epoch 25/25\n",
      "4561/4561 [==============================] - 135s 30ms/step - loss: 0.0144 - acc: 0.9965 - val_loss: 0.3527 - val_acc: 0.9397\n",
      "\n",
      "Epoch 00025: val_loss did not improve from 0.28672\n"
     ]
    }
   ],
   "source": [
    "checkpoint = ModelCheckpoint('model-topcat-5-{epoch:03d}-{acc:03f}-{val_acc:03f}.h5', \n",
    "                             verbose=1, monitor='val_loss', save_best_only=True, mode='auto')\n",
    "history = model.fit(x_train, y_train, batch_size=256, epochs=25, validation_split=0.3, shuffle=True, callbacks=[checkpoint])"
   ]
  },
  {
   "cell_type": "code",
   "execution_count": 21,
   "metadata": {},
   "outputs": [
    {
     "name": "stderr",
     "output_type": "stream",
     "text": [
      "C:\\Anaconda3\\envs\\tensorflow\\lib\\site-packages\\keras\\engine\\saving.py:292: UserWarning: No training configuration found in save file: the model was *not* compiled. Compile it manually.\n",
      "  warnings.warn('No training configuration found in save file: '\n"
     ]
    }
   ],
   "source": [
    "# Save Complete Model\n",
    "model.save('tc-nltk-lstm-rnn-topcat-5.h5')\n",
    "\n",
    "# Load a Saved Model\n",
    "# model = load_model('tc-nltk-lstm-rnn.h5')\n",
    "\n",
    "# Delete a model\n",
    "# del model\n",
    "\n",
    "# Save Model Configuration to JSON\n",
    "model_json = model.to_json()\n",
    "with open('tc-nltk-lstm-rnn-topcat-5.json', 'w') as json_file:\n",
    "    json_file.write(model_json)\n",
    "\n",
    "# Load Model Configuration from JSON\n",
    "json_file = open('tc-nltk-lstm-rnn-topcat-5.json', 'r')\n",
    "loaded_model_json = json_file.read()\n",
    "json_file.close()\n",
    "loaded_model = model_from_json(loaded_model_json)\n",
    "loaded_model.load_weights('model-topcat-5-012-0.994738-0.946830.h5')\n",
    "loaded_model.save('tc-nltk-lstm-rnn-weights.hdf5')\n",
    "loaded_model=load_model('tc-nltk-lstm-rnn-weights.hdf5')"
   ]
  },
  {
   "cell_type": "code",
   "execution_count": 22,
   "metadata": {},
   "outputs": [
    {
     "name": "stdout",
     "output_type": "stream",
     "text": [
      "1630/1630 [==============================] - 17s 11ms/step\n",
      "\n",
      "Loss: 0.299\tAccuracy: 0.938\n"
     ]
    }
   ],
   "source": [
    "accr = model.evaluate(x_test, y_test, batch_size=256)\n",
    "print()\n",
    "print('Loss: {:0.3f}\\tAccuracy: {:0.3f}'.format(accr[0], accr[1]))"
   ]
  },
  {
   "cell_type": "code",
   "execution_count": 15,
   "metadata": {},
   "outputs": [],
   "source": [
    "# plot_model(model, to_file='tc-nltk-lstm-4-model.png')"
   ]
  },
  {
   "cell_type": "code",
   "execution_count": 16,
   "metadata": {},
   "outputs": [
    {
     "data": {
      "image/png": "[encoded data removed]",
      "text/plain": [
       "<Figure size 432x288 with 1 Axes>"
      ]
     },
     "metadata": {
      "needs_background": "light"
     },
     "output_type": "display_data"
    },
    {
     "data": {
      "image/png": "[encoded data removed]",
      "text/plain": [
       "<Figure size 432x288 with 1 Axes>"
      ]
     },
     "metadata": {
      "needs_background": "light"
     },
     "output_type": "display_data"
    }
   ],
   "source": [
    "# Plot training & validation accuracy values\n",
    "plt.plot(history.history['acc'])\n",
    "plt.plot(history.history['val_acc'])\n",
    "plt.title('Training and Validation Accuracy - LSTM RNN')\n",
    "plt.ylabel('Accuracy')\n",
    "plt.xlabel('Epoch')\n",
    "plt.legend(['Train', 'Test'], loc='upper left')\n",
    "plt.savefig('tc-nltk-lstm-rnn-topcat-5-acc.png', dpi=300, pad_inches=0.1)\n",
    "plt.show()\n",
    "\n",
    "# Plot training & validation loss values\n",
    "plt.plot(history.history['loss'])\n",
    "plt.plot(history.history['val_loss'])\n",
    "plt.title('Training and Validation Loss - LSTM RNN')\n",
    "plt.ylabel('Loss')\n",
    "plt.xlabel('Epoch')\n",
    "plt.legend(['Train', 'Test'], loc='upper left')\n",
    "plt.savefig('tc-nltk-lstm-rnn-topcat-5-loss.png', dpi=300, pad_inches=0.1)\n",
    "plt.show()"
   ]
  },
  {
   "cell_type": "code",
   "execution_count": null,
   "metadata": {},
   "outputs": [],
   "source": []
  }
 ],
 "metadata": {
  "kernelspec": {
   "display_name": "Python 3",
   "language": "python",
   "name": "python3"
  },
  "language_info": {
   "codemirror_mode": {
    "name": "ipython",
    "version": 3
   },
   "file_extension": ".py",
   "mimetype": "text/x-python",
   "name": "python",
   "nbconvert_exporter": "python",
   "pygments_lexer": "ipython3",
   "version": "3.6.8"
  }
 },
 "nbformat": 4,
 "nbformat_minor": 2
}
