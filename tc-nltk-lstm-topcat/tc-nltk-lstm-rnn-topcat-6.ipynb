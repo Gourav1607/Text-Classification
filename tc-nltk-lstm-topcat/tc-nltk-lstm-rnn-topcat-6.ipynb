{
 "cells": [
  {
   "cell_type": "code",
   "execution_count": 1,
   "metadata": {},
   "outputs": [],
   "source": [
    "# Text Classification / tc-nltk-lstm-rnn-topcat-6.ipynb\n",
    "# Gourav Siddhad\n",
    "# 25-Mar-2019"
   ]
  },
  {
   "cell_type": "code",
   "execution_count": 2,
   "metadata": {},
   "outputs": [
    {
     "name": "stdout",
     "output_type": "stream",
     "text": [
      "Importing Libraries"
     ]
    },
    {
     "name": "stderr",
     "output_type": "stream",
     "text": [
      "Using TensorFlow backend.\n"
     ]
    },
    {
     "name": "stdout",
     "output_type": "stream",
     "text": [
      " - Done\n"
     ]
    }
   ],
   "source": [
    "print('Importing Libraries', end='')\n",
    "\n",
    "import pandas as pd\n",
    "import numpy as np\n",
    "from numpy.random import seed\n",
    "import re\n",
    "import os\n",
    "import pandas as pd\n",
    "import time\n",
    "\n",
    "import matplotlib.pyplot as plt\n",
    "\n",
    "import seaborn as sns\n",
    "\n",
    "import nltk\n",
    "from nltk import word_tokenize\n",
    "from nltk.corpus import reuters, stopwords\n",
    "from nltk.stem.porter import PorterStemmer\n",
    "\n",
    "from sklearn.model_selection import train_test_split\n",
    "from sklearn.preprocessing import LabelEncoder\n",
    "\n",
    "from sklearn.feature_extraction.text import TfidfVectorizer, CountVectorizer\n",
    "from sklearn.preprocessing import MultiLabelBinarizer, minmax_scale\n",
    "from sklearn.metrics import accuracy_score, confusion_matrix, roc_curve, auc\n",
    "from sklearn.model_selection import train_test_split\n",
    "\n",
    "from keras.models import Model, model_from_json, load_model\n",
    "from keras.layers import LSTM, Activation, Dense, Dropout, Input, Embedding\n",
    "from keras.optimizers import RMSprop\n",
    "from keras.preprocessing.text import Tokenizer\n",
    "from keras.preprocessing import sequence\n",
    "from keras.utils import to_categorical, plot_model\n",
    "from keras.callbacks import EarlyStopping, ModelCheckpoint\n",
    "\n",
    "%matplotlib inline\n",
    "\n",
    "from scipy import interp\n",
    "from itertools import cycle\n",
    "\n",
    "print(' - Done')"
   ]
  },
  {
   "cell_type": "code",
   "execution_count": 3,
   "metadata": {},
   "outputs": [
    {
     "name": "stdout",
     "output_type": "stream",
     "text": [
      "Total Documents - 10788\n",
      "Extracting (Id, Docs and Labels) - Done\n",
      "Documents -  10788\n",
      "Labels  -  10788\n",
      "Categories -  90\n",
      "Caching Stop Words - Done\n"
     ]
    }
   ],
   "source": [
    "documents = reuters.fileids()\n",
    "print('Total Documents -', len(documents))\n",
    "\n",
    "print('Extracting (Id, Docs and Labels)', end='')\n",
    "train_docs_id = list(filter(lambda doc: doc.startswith(\"train\"), documents))\n",
    "test_docs_id = list(filter(lambda doc: doc.startswith(\"test\"), documents))\n",
    "\n",
    "train_docs = [reuters.raw(doc_id) for doc_id in train_docs_id]\n",
    "test_docs = [reuters.raw(doc_id) for doc_id in test_docs_id]\n",
    "all_docs = train_docs\n",
    "all_docs += test_docs\n",
    "\n",
    "train_labels = [reuters.categories(doc_id) for doc_id in train_docs_id]\n",
    "test_labels  = [reuters.categories(doc_id) for doc_id in test_docs_id]\n",
    "all_labels = train_labels\n",
    "all_labels += test_labels\n",
    "print(' - Done')\n",
    "\n",
    "del train_docs\n",
    "del test_docs\n",
    "del train_labels\n",
    "del test_labels\n",
    "\n",
    "print('Documents - ', len(all_docs))\n",
    "print('Labels  - ', len(all_labels))\n",
    "\n",
    "# List of categories\n",
    "categories = reuters.categories()\n",
    "print('Categories - ', len(categories))\n",
    "\n",
    "print('Caching Stop Words', end='')\n",
    "cachedStopWords = stopwords.words(\"english\")\n",
    "print(' - Done')"
   ]
  },
  {
   "cell_type": "code",
   "execution_count": 4,
   "metadata": {},
   "outputs": [
    {
     "name": "stdout",
     "output_type": "stream",
     "text": [
      "    Category  Count\n",
      "21      earn   3964\n",
      "0        acq   2369\n",
      "46  money-fx    717\n",
      "26     grain    582\n",
      "17     crude    578\n",
      "\n",
      "    Category  Count\n",
      "84     trade    485\n",
      "34  interest    478\n",
      "71      ship    286\n",
      "86     wheat    283\n",
      "12      corn    237\n"
     ]
    }
   ],
   "source": [
    "catcount = dict()\n",
    "topcount = 10\n",
    "\n",
    "for cat in categories:\n",
    "    catcount[cat] = 0\n",
    "\n",
    "for lab in all_labels:\n",
    "    for slab in lab:\n",
    "        catcount[slab] += 1\n",
    "\n",
    "df = pd.DataFrame.from_dict(catcount.items()) # , columns=['Category', 'Count']\n",
    "df.columns = ['Category', 'Count']\n",
    "df = df.sort_values(by=['Count'], ascending=False)\n",
    "print(df.head())\n",
    "print()\n",
    "df1 = df.head(topcount)\n",
    "print(df1.tail())"
   ]
  },
  {
   "cell_type": "code",
   "execution_count": 5,
   "metadata": {},
   "outputs": [
    {
     "name": "stdout",
     "output_type": "stream",
     "text": [
      "Original Data\n",
      "10788 10788\n",
      "\n",
      "Modified data - Using Top 10 Categories\n",
      "9034 9034\n"
     ]
    }
   ],
   "source": [
    "cats = df1['Category']\n",
    "cats = set(cats)\n",
    "\n",
    "new_labels = []\n",
    "new_docs = []\n",
    "\n",
    "for i in range(len(all_labels)):\n",
    "    templab = []\n",
    "    for lab in all_labels[i]:\n",
    "        if lab in cats:\n",
    "            templab.append(lab)\n",
    "    if len(templab) is not 0:\n",
    "        new_labels.append(templab)\n",
    "        new_docs.append(all_docs[i])\n",
    "        \n",
    "print('Original Data')\n",
    "print(len(all_labels), len(all_docs))\n",
    "print()\n",
    "print('Modified data - Using Top', topcount,'Categories')\n",
    "print(len(new_labels), len(new_docs))"
   ]
  },
  {
   "cell_type": "code",
   "execution_count": 6,
   "metadata": {},
   "outputs": [
    {
     "name": "stdout",
     "output_type": "stream",
     "text": [
      "Sorting Train:Test Docs - Done\n",
      "Tokenizing - Done\n"
     ]
    }
   ],
   "source": [
    "print('Sorting Train:Test Docs', end='')\n",
    "X_train, X_test, y_train, y_test = train_test_split(new_docs, new_labels, test_size=0.2, random_state=42)\n",
    "print(' - Done')\n",
    "\n",
    "maxwords = 6000\n",
    "\n",
    "print('Tokenizing', end='')\n",
    "tk = Tokenizer(num_words=maxwords)\n",
    "tk.fit_on_texts(X_train)\n",
    "tk.fit_on_texts(X_test)\n",
    "index_list_train = tk.texts_to_sequences(X_train)\n",
    "index_list_test = tk.texts_to_sequences(X_test)\n",
    "print(' - Done')"
   ]
  },
  {
   "cell_type": "code",
   "execution_count": 7,
   "metadata": {},
   "outputs": [
    {
     "name": "stdout",
     "output_type": "stream",
     "text": [
      "2153\n",
      "2301\n"
     ]
    }
   ],
   "source": [
    "# max of index_list_train\n",
    "# max of index_list_test\n",
    "\n",
    "maxlen = 200\n",
    "\n",
    "for i in index_list_train:\n",
    "    if len(i)>maxlen:\n",
    "        maxlen = len(i)\n",
    "print(maxlen)\n",
    "\n",
    "for i in index_list_test:\n",
    "    if len(i)>maxlen:\n",
    "        maxlen = len(i)\n",
    "print(maxlen)"
   ]
  },
  {
   "cell_type": "code",
   "execution_count": 8,
   "metadata": {},
   "outputs": [
    {
     "name": "stdout",
     "output_type": "stream",
     "text": [
      "Padding Sequences - Done\n",
      "Binarizing MultiLabels - Done\n"
     ]
    }
   ],
   "source": [
    "maxlen = 1600\n",
    "\n",
    "print('Padding Sequences', end='')\n",
    "x_train = sequence.pad_sequences(index_list_train, maxlen=maxlen)\n",
    "x_test = sequence.pad_sequences(index_list_test, maxlen=maxlen)\n",
    "print(' - Done')\n",
    "\n",
    "print('Binarizing MultiLabels', end='')\n",
    "lb = MultiLabelBinarizer()\n",
    "y_train = lb.fit_transform(y_train)\n",
    "y_test = lb.transform(y_test)\n",
    "print(' - Done')"
   ]
  },
  {
   "cell_type": "code",
   "execution_count": 9,
   "metadata": {},
   "outputs": [],
   "source": [
    "del all_docs\n",
    "del all_labels"
   ]
  },
  {
   "cell_type": "code",
   "execution_count": 10,
   "metadata": {},
   "outputs": [],
   "source": [
    "def RNN():\n",
    "    inputs = Input(name='inputs', shape=[maxlen])\n",
    "    layer = Embedding(maxwords, 512, input_length=maxlen)(inputs)\n",
    "    layer = LSTM(256)(layer)\n",
    "    layer = Dense(128, name='FC1')(layer)\n",
    "    layer = Activation('relu')(layer)\n",
    "    layer = Dropout(rate = 0.05)(layer) # rate = 1-keep_prob, keep_prob=0.5\n",
    "    layer = Dense(len(cats), name='out_layer')(layer)\n",
    "    layer = Activation('softmax')(layer)\n",
    "    model = Model(inputs=inputs, outputs=layer)\n",
    "    return model"
   ]
  },
  {
   "cell_type": "code",
   "execution_count": 11,
   "metadata": {},
   "outputs": [
    {
     "name": "stdout",
     "output_type": "stream",
     "text": [
      "_________________________________________________________________\n",
      "Layer (type)                 Output Shape              Param #   \n",
      "=================================================================\n",
      "inputs (InputLayer)          (None, 1600)              0         \n",
      "_________________________________________________________________\n",
      "embedding_1 (Embedding)      (None, 1600, 512)         3072000   \n",
      "_________________________________________________________________\n",
      "lstm_1 (LSTM)                (None, 256)               787456    \n",
      "_________________________________________________________________\n",
      "FC1 (Dense)                  (None, 128)               32896     \n",
      "_________________________________________________________________\n",
      "activation_1 (Activation)    (None, 128)               0         \n",
      "_________________________________________________________________\n",
      "dropout_1 (Dropout)          (None, 128)               0         \n",
      "_________________________________________________________________\n",
      "out_layer (Dense)            (None, 10)                1290      \n",
      "_________________________________________________________________\n",
      "activation_2 (Activation)    (None, 10)                0         \n",
      "=================================================================\n",
      "Total params: 3,893,642\n",
      "Trainable params: 3,893,642\n",
      "Non-trainable params: 0\n",
      "_________________________________________________________________\n"
     ]
    }
   ],
   "source": [
    "model = RNN()\n",
    "model.summary()\n",
    "# model.compile(loss='categorical_crossentropy', optimizer=RMSprop(lr=0.001), metrics=['accuracy'])\n",
    "model.compile(loss='categorical_crossentropy', optimizer='adam', metrics=['accuracy'])"
   ]
  },
  {
   "cell_type": "code",
   "execution_count": 12,
   "metadata": {},
   "outputs": [
    {
     "name": "stdout",
     "output_type": "stream",
     "text": [
      "Train on 5058 samples, validate on 2169 samples\n",
      "Epoch 1/25\n",
      "5058/5058 [==============================] - 161s 32ms/step - loss: 2.1226 - acc: 0.4387 - val_loss: 1.6364 - val_acc: 0.4495\n",
      "\n",
      "Epoch 00001: val_loss improved from inf to 1.63636, saving model to model-topcat-6-001-0.438711-0.449516.h5\n",
      "Epoch 2/25\n",
      "5058/5058 [==============================] - 158s 31ms/step - loss: 1.3154 - acc: 0.6129 - val_loss: 1.0996 - val_acc: 0.6989\n",
      "\n",
      "Epoch 00002: val_loss improved from 1.63636 to 1.09957, saving model to model-topcat-6-002-0.612890-0.698940.h5\n",
      "Epoch 3/25\n",
      "5058/5058 [==============================] - 163s 32ms/step - loss: 1.0041 - acc: 0.7222 - val_loss: 1.0288 - val_acc: 0.7363\n",
      "\n",
      "Epoch 00003: val_loss improved from 1.09957 to 1.02878, saving model to model-topcat-6-003-0.722222-0.736284.h5\n",
      "Epoch 4/25\n",
      "5058/5058 [==============================] - 159s 31ms/step - loss: 0.8805 - acc: 0.7616 - val_loss: 0.9618 - val_acc: 0.7395\n",
      "\n",
      "Epoch 00004: val_loss improved from 1.02878 to 0.96180, saving model to model-topcat-6-004-0.761566-0.739511.h5\n",
      "Epoch 5/25\n",
      "5058/5058 [==============================] - 163s 32ms/step - loss: 0.6596 - acc: 0.8229 - val_loss: 0.8083 - val_acc: 0.7902\n",
      "\n",
      "Epoch 00005: val_loss improved from 0.96180 to 0.80833, saving model to model-topcat-6-005-0.822855-0.790226.h5\n",
      "Epoch 6/25\n",
      "5058/5058 [==============================] - 161s 32ms/step - loss: 0.5230 - acc: 0.8715 - val_loss: 0.7349 - val_acc: 0.8151\n",
      "\n",
      "Epoch 00006: val_loss improved from 0.80833 to 0.73490, saving model to model-topcat-6-006-0.871491-0.815122.h5\n",
      "Epoch 7/25\n",
      "5058/5058 [==============================] - 159s 31ms/step - loss: 0.4591 - acc: 0.8928 - val_loss: 0.7904 - val_acc: 0.7911\n",
      "\n",
      "Epoch 00007: val_loss did not improve from 0.73490\n",
      "Epoch 8/25\n",
      "5058/5058 [==============================] - 164s 32ms/step - loss: 0.4524 - acc: 0.8960 - val_loss: 0.7490 - val_acc: 0.8211\n",
      "\n",
      "Epoch 00008: val_loss did not improve from 0.73490\n",
      "Epoch 9/25\n",
      "5058/5058 [==============================] - 165s 33ms/step - loss: 0.3653 - acc: 0.9172 - val_loss: 0.6808 - val_acc: 0.8400\n",
      "\n",
      "Epoch 00009: val_loss improved from 0.73490 to 0.68083, saving model to model-topcat-6-009-0.917161-0.840018.h5\n",
      "Epoch 10/25\n",
      "5058/5058 [==============================] - 155s 31ms/step - loss: 0.2989 - acc: 0.9365 - val_loss: 0.6948 - val_acc: 0.8377\n",
      "\n",
      "Epoch 00010: val_loss did not improve from 0.68083\n",
      "Epoch 11/25\n",
      "5058/5058 [==============================] - 154s 30ms/step - loss: 0.2649 - acc: 0.9439 - val_loss: 0.6904 - val_acc: 0.8451\n",
      "\n",
      "Epoch 00011: val_loss did not improve from 0.68083\n",
      "Epoch 12/25\n",
      "5058/5058 [==============================] - 157s 31ms/step - loss: 0.2520 - acc: 0.9474 - val_loss: 0.7253 - val_acc: 0.8451\n",
      "\n",
      "Epoch 00012: val_loss did not improve from 0.68083\n",
      "Epoch 13/25\n",
      "5058/5058 [==============================] - 158s 31ms/step - loss: 0.2300 - acc: 0.9486 - val_loss: 0.7155 - val_acc: 0.8543\n",
      "\n",
      "Epoch 00013: val_loss did not improve from 0.68083\n",
      "Epoch 14/25\n",
      "5058/5058 [==============================] - 155s 31ms/step - loss: 0.2213 - acc: 0.9518 - val_loss: 0.7400 - val_acc: 0.8308\n",
      "\n",
      "Epoch 00014: val_loss did not improve from 0.68083\n",
      "Epoch 15/25\n",
      "5058/5058 [==============================] - 163s 32ms/step - loss: 0.2218 - acc: 0.9529 - val_loss: 0.7907 - val_acc: 0.8294\n",
      "\n",
      "Epoch 00015: val_loss did not improve from 0.68083\n",
      "Epoch 16/25\n",
      "5058/5058 [==============================] - 147s 29ms/step - loss: 0.2192 - acc: 0.9508 - val_loss: 0.7832 - val_acc: 0.8294\n",
      "\n",
      "Epoch 00016: val_loss did not improve from 0.68083\n",
      "Epoch 17/25\n",
      "5058/5058 [==============================] - 155s 31ms/step - loss: 0.2072 - acc: 0.9498 - val_loss: 0.7627 - val_acc: 0.8465\n",
      "\n",
      "Epoch 00017: val_loss did not improve from 0.68083\n",
      "Epoch 18/25\n",
      "5058/5058 [==============================] - 157s 31ms/step - loss: 0.2095 - acc: 0.9535 - val_loss: 0.8224 - val_acc: 0.8220\n",
      "\n",
      "Epoch 00018: val_loss did not improve from 0.68083\n",
      "Epoch 19/25\n",
      "5058/5058 [==============================] - 161s 32ms/step - loss: 0.2096 - acc: 0.9506 - val_loss: 0.7966 - val_acc: 0.8313\n",
      "\n",
      "Epoch 00019: val_loss did not improve from 0.68083\n",
      "Epoch 20/25\n",
      "5058/5058 [==============================] - 162s 32ms/step - loss: 0.2176 - acc: 0.9442 - val_loss: 0.8756 - val_acc: 0.8151\n",
      "\n",
      "Epoch 00020: val_loss did not improve from 0.68083\n",
      "Epoch 21/25\n",
      "5058/5058 [==============================] - 156s 31ms/step - loss: 0.2269 - acc: 0.9460 - val_loss: 0.8252 - val_acc: 0.8354\n",
      "\n",
      "Epoch 00021: val_loss did not improve from 0.68083\n",
      "Epoch 22/25\n",
      "5058/5058 [==============================] - 155s 31ms/step - loss: 0.2215 - acc: 0.9464 - val_loss: 0.8108 - val_acc: 0.8271\n",
      "\n",
      "Epoch 00022: val_loss did not improve from 0.68083\n",
      "Epoch 23/25\n",
      "5058/5058 [==============================] - 158s 31ms/step - loss: 0.1942 - acc: 0.9508 - val_loss: 0.7910 - val_acc: 0.8409\n",
      "\n",
      "Epoch 00023: val_loss did not improve from 0.68083\n",
      "Epoch 24/25\n",
      "5058/5058 [==============================] - 159s 31ms/step - loss: 0.1852 - acc: 0.9557 - val_loss: 0.8255 - val_acc: 0.8354\n",
      "\n",
      "Epoch 00024: val_loss did not improve from 0.68083\n",
      "Epoch 25/25\n",
      "5058/5058 [==============================] - 158s 31ms/step - loss: 0.1821 - acc: 0.9506 - val_loss: 0.8454 - val_acc: 0.8446\n",
      "\n",
      "Epoch 00025: val_loss did not improve from 0.68083\n"
     ]
    }
   ],
   "source": [
    "checkpoint = ModelCheckpoint('model-topcat-6-{epoch:03d}-{acc:03f}-{val_acc:03f}.h5', \n",
    "                             verbose=1, monitor='val_loss', save_best_only=True, mode='auto')\n",
    "history = model.fit(x_train, y_train, batch_size=256, epochs=25, validation_split=0.3, shuffle=True, callbacks=[checkpoint])"
   ]
  },
  {
   "cell_type": "code",
   "execution_count": 14,
   "metadata": {},
   "outputs": [],
   "source": [
    "# Save Complete Model\n",
    "model.save('tc-nltk-lstm-rnn-topcat-6.h5')\n",
    "\n",
    "# Save Model Configuration to JSON\n",
    "model_json = model.to_json()\n",
    "with open('tc-nltk-lstm-rnn-topcat-6.json', 'w') as json_file:\n",
    "    json_file.write(model_json)\n",
    "\n",
    "# Load a Saved Model\n",
    "# model = load_model('tc-nltk-lstm-rnn.h5')"
   ]
  },
  {
   "cell_type": "code",
   "execution_count": 15,
   "metadata": {},
   "outputs": [
    {
     "name": "stderr",
     "output_type": "stream",
     "text": [
      "C:\\Anaconda3\\envs\\tensorflow\\lib\\site-packages\\keras\\engine\\saving.py:292: UserWarning: No training configuration found in save file: the model was *not* compiled. Compile it manually.\n",
      "  warnings.warn('No training configuration found in save file: '\n"
     ]
    }
   ],
   "source": [
    "# Load Model Configuration from JSON\n",
    "json_file = open('tc-nltk-lstm-rnn-topcat-6.json', 'r')\n",
    "loaded_model_json = json_file.read()\n",
    "json_file.close()\n",
    "loaded_model = model_from_json(loaded_model_json)\n",
    "loaded_model.load_weights('model-topcat-6-009-0.917161-0.840018.h5') # Change before running\n",
    "loaded_model.save('tc-nltk-lstm-rnn-topcat-6-weights.hdf5')\n",
    "loaded_model=load_model('tc-nltk-lstm-rnn-topcat-6-weights.hdf5')"
   ]
  },
  {
   "cell_type": "code",
   "execution_count": 16,
   "metadata": {},
   "outputs": [
    {
     "name": "stdout",
     "output_type": "stream",
     "text": [
      "1807/1807 [==============================] - 17s 9ms/step\n",
      "\n",
      "Loss: 0.785\tAccuracy: 0.865\n"
     ]
    }
   ],
   "source": [
    "accr = model.evaluate(x_test, y_test, batch_size=256)\n",
    "print()\n",
    "print('Loss: {:0.3f}\\tAccuracy: {:0.3f}'.format(accr[0], accr[1]))"
   ]
  },
  {
   "cell_type": "code",
   "execution_count": 17,
   "metadata": {},
   "outputs": [],
   "source": [
    "# plot_model(model, to_file='tc-nltk-lstm-4-model.png')"
   ]
  },
  {
   "cell_type": "code",
   "execution_count": 18,
   "metadata": {},
   "outputs": [
    {
     "data": {
      "image/png": "[encoded data removed]",
      "text/plain": [
       "<Figure size 432x288 with 1 Axes>"
      ]
     },
     "metadata": {
      "needs_background": "light"
     },
     "output_type": "display_data"
    },
    {
     "data": {
      "image/png": "[encoded data removed]",
      "text/plain": [
       "<Figure size 432x288 with 1 Axes>"
      ]
     },
     "metadata": {
      "needs_background": "light"
     },
     "output_type": "display_data"
    }
   ],
   "source": [
    "# Plot training & validation accuracy values\n",
    "plt.plot(history.history['acc'])\n",
    "plt.plot(history.history['val_acc'])\n",
    "plt.title('Training and Validation Accuracy - LSTM RNN')\n",
    "plt.ylabel('Accuracy')\n",
    "plt.xlabel('Epoch')\n",
    "plt.legend(['Train', 'Test'], loc='upper left')\n",
    "plt.savefig('tc-nltk-lstm-rnn-topcat-6-acc.png', dpi=300, pad_inches=0.1)\n",
    "plt.show()\n",
    "\n",
    "# Plot training & validation loss values\n",
    "plt.plot(history.history['loss'])\n",
    "plt.plot(history.history['val_loss'])\n",
    "plt.title('Training and Validation Loss - LSTM RNN')\n",
    "plt.ylabel('Loss')\n",
    "plt.xlabel('Epoch')\n",
    "plt.legend(['Train', 'Test'], loc='upper left')\n",
    "plt.savefig('tc-nltk-lstm-rnn-topcat-6-loss.png', dpi=300, pad_inches=0.1)\n",
    "plt.show()"
   ]
  },
  {
   "cell_type": "code",
   "execution_count": null,
   "metadata": {},
   "outputs": [],
   "source": []
  }
 ],
 "metadata": {
  "kernelspec": {
   "display_name": "Python 3",
   "language": "python",
   "name": "python3"
  },
  "language_info": {
   "codemirror_mode": {
    "name": "ipython",
    "version": 3
   },
   "file_extension": ".py",
   "mimetype": "text/x-python",
   "name": "python",
   "nbconvert_exporter": "python",
   "pygments_lexer": "ipython3",
   "version": "3.6.8"
  }
 },
 "nbformat": 4,
 "nbformat_minor": 2
}
