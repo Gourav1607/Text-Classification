{
 "cells": [
  {
   "cell_type": "code",
   "execution_count": 1,
   "metadata": {},
   "outputs": [],
   "source": [
    "# Text Classification / tc-nltk-lstm-rnn-topcat-3.ipynb\n",
    "# Gourav Siddhad\n",
    "# 24-Mar-2019"
   ]
  },
  {
   "cell_type": "code",
   "execution_count": 2,
   "metadata": {},
   "outputs": [
    {
     "name": "stdout",
     "output_type": "stream",
     "text": [
      "Importing Libraries"
     ]
    },
    {
     "name": "stderr",
     "output_type": "stream",
     "text": [
      "Using TensorFlow backend.\n"
     ]
    },
    {
     "name": "stdout",
     "output_type": "stream",
     "text": [
      " - Done\n"
     ]
    }
   ],
   "source": [
    "print('Importing Libraries', end='')\n",
    "\n",
    "import pandas as pd\n",
    "import numpy as np\n",
    "from numpy.random import seed\n",
    "import re\n",
    "import os\n",
    "import pandas as pd\n",
    "import time\n",
    "\n",
    "import matplotlib.pyplot as plt\n",
    "\n",
    "import seaborn as sns\n",
    "\n",
    "import nltk\n",
    "from nltk import word_tokenize\n",
    "from nltk.corpus import reuters, stopwords\n",
    "from nltk.stem.porter import PorterStemmer\n",
    "\n",
    "from sklearn.model_selection import train_test_split\n",
    "from sklearn.preprocessing import LabelEncoder\n",
    "\n",
    "from sklearn.feature_extraction.text import TfidfVectorizer, CountVectorizer\n",
    "from sklearn.preprocessing import MultiLabelBinarizer, minmax_scale\n",
    "from sklearn.metrics import accuracy_score, confusion_matrix, roc_curve, auc\n",
    "from sklearn.model_selection import train_test_split\n",
    "\n",
    "from keras.models import Model\n",
    "from keras.layers import LSTM, Activation, Dense, Dropout, Input, Embedding\n",
    "from keras.optimizers import RMSprop\n",
    "from keras.preprocessing.text import Tokenizer\n",
    "from keras.preprocessing import sequence\n",
    "from keras.utils import to_categorical, plot_model\n",
    "from keras.callbacks import EarlyStopping, ModelCheckpoint\n",
    "\n",
    "%matplotlib inline\n",
    "\n",
    "from scipy import interp\n",
    "from itertools import cycle\n",
    "\n",
    "print(' - Done')"
   ]
  },
  {
   "cell_type": "code",
   "execution_count": 3,
   "metadata": {},
   "outputs": [
    {
     "name": "stdout",
     "output_type": "stream",
     "text": [
      "Total Documents - 10788\n",
      "Extracting (Id, Docs and Labels) - Done\n",
      "Documents -  10788\n",
      "Labels  -  10788\n",
      "Categories -  90\n",
      "Caching Stop Words - Done\n"
     ]
    }
   ],
   "source": [
    "documents = reuters.fileids()\n",
    "print('Total Documents -', len(documents))\n",
    "\n",
    "print('Extracting (Id, Docs and Labels)', end='')\n",
    "train_docs_id = list(filter(lambda doc: doc.startswith(\"train\"), documents))\n",
    "test_docs_id = list(filter(lambda doc: doc.startswith(\"test\"), documents))\n",
    "\n",
    "train_docs = [reuters.raw(doc_id) for doc_id in train_docs_id]\n",
    "test_docs = [reuters.raw(doc_id) for doc_id in test_docs_id]\n",
    "all_docs = train_docs\n",
    "all_docs += test_docs\n",
    "\n",
    "train_labels = [reuters.categories(doc_id) for doc_id in train_docs_id]\n",
    "test_labels  = [reuters.categories(doc_id) for doc_id in test_docs_id]\n",
    "all_labels = train_labels\n",
    "all_labels += test_labels\n",
    "print(' - Done')\n",
    "\n",
    "del train_docs\n",
    "del test_docs\n",
    "del train_labels\n",
    "del test_labels\n",
    "\n",
    "print('Documents - ', len(all_docs))\n",
    "print('Labels  - ', len(all_labels))\n",
    "\n",
    "# List of categories\n",
    "categories = reuters.categories()\n",
    "print('Categories - ', len(categories))\n",
    "\n",
    "print('Caching Stop Words', end='')\n",
    "cachedStopWords = stopwords.words(\"english\")\n",
    "print(' - Done')"
   ]
  },
  {
   "cell_type": "code",
   "execution_count": 4,
   "metadata": {},
   "outputs": [
    {
     "name": "stdout",
     "output_type": "stream",
     "text": [
      "    Category  Count\n",
      "21      earn   3964\n",
      "0        acq   2369\n",
      "46  money-fx    717\n",
      "26     grain    582\n",
      "17     crude    578\n",
      "\n",
      "    Category  Count\n",
      "84     trade    485\n",
      "34  interest    478\n",
      "71      ship    286\n",
      "86     wheat    283\n",
      "12      corn    237\n"
     ]
    }
   ],
   "source": [
    "catcount = dict()\n",
    "topcount = 10\n",
    "\n",
    "for cat in categories:\n",
    "    catcount[cat] = 0\n",
    "\n",
    "for lab in all_labels:\n",
    "    for slab in lab:\n",
    "        catcount[slab] += 1\n",
    "\n",
    "df = pd.DataFrame.from_dict(catcount.items()) # , columns=['Category', 'Count']\n",
    "df.columns = ['Category', 'Count']\n",
    "df = df.sort_values(by=['Count'], ascending=False)\n",
    "print(df.head())\n",
    "print()\n",
    "df1 = df.head(topcount)\n",
    "print(df1.tail())"
   ]
  },
  {
   "cell_type": "code",
   "execution_count": 5,
   "metadata": {},
   "outputs": [
    {
     "name": "stdout",
     "output_type": "stream",
     "text": [
      "Original Data\n",
      "10788 10788\n",
      "\n",
      "Modified data - Using Top 10 Categories\n",
      "9034 9034\n"
     ]
    }
   ],
   "source": [
    "cats = df1['Category']\n",
    "cats = set(cats)\n",
    "\n",
    "new_labels = []\n",
    "new_docs = []\n",
    "\n",
    "for i in range(len(all_labels)):\n",
    "    templab = []\n",
    "    for lab in all_labels[i]:\n",
    "        if lab in cats:\n",
    "            templab.append(lab)\n",
    "    if len(templab) is not 0:\n",
    "        new_labels.append(templab)\n",
    "        new_docs.append(all_docs[i])\n",
    "        \n",
    "print('Original Data')\n",
    "print(len(all_labels), len(all_docs))\n",
    "print()\n",
    "print('Modified data - Using Top', topcount,'Categories')\n",
    "print(len(new_labels), len(new_docs))"
   ]
  },
  {
   "cell_type": "code",
   "execution_count": 7,
   "metadata": {},
   "outputs": [
    {
     "name": "stdout",
     "output_type": "stream",
     "text": [
      "Sorting Train:Test Docs - Done\n",
      "Tokenizing - Done\n"
     ]
    }
   ],
   "source": [
    "print('Sorting Train:Test Docs', end='')\n",
    "X_train, X_test, y_train, y_test = train_test_split(new_docs, new_labels, test_size=0.2, random_state=42)\n",
    "print(' - Done')\n",
    "\n",
    "maxwords = 6000\n",
    "\n",
    "print('Tokenizing', end='')\n",
    "tk = Tokenizer(num_words=maxwords)\n",
    "tk.fit_on_texts(X_train)\n",
    "tk.fit_on_texts(X_test)\n",
    "index_list_train = tk.texts_to_sequences(X_train)\n",
    "index_list_test = tk.texts_to_sequences(X_test)\n",
    "print(' - Done')"
   ]
  },
  {
   "cell_type": "code",
   "execution_count": 8,
   "metadata": {},
   "outputs": [
    {
     "name": "stdout",
     "output_type": "stream",
     "text": [
      "2153\n",
      "2301\n"
     ]
    }
   ],
   "source": [
    "# max of index_list_train\n",
    "# max of index_list_test\n",
    "\n",
    "maxlen = 200\n",
    "\n",
    "for i in index_list_train:\n",
    "    if len(i)>maxlen:\n",
    "        maxlen = len(i)\n",
    "print(maxlen)\n",
    "\n",
    "for i in index_list_test:\n",
    "    if len(i)>maxlen:\n",
    "        maxlen = len(i)\n",
    "print(maxlen)"
   ]
  },
  {
   "cell_type": "code",
   "execution_count": 9,
   "metadata": {},
   "outputs": [
    {
     "name": "stdout",
     "output_type": "stream",
     "text": [
      "Padding Sequences - Done\n",
      "Binarizing MultiLabels - Done\n"
     ]
    }
   ],
   "source": [
    "maxlen = 1600\n",
    "\n",
    "print('Padding Sequences', end='')\n",
    "x_train = sequence.pad_sequences(index_list_train, maxlen=maxlen)\n",
    "x_test = sequence.pad_sequences(index_list_test, maxlen=maxlen)\n",
    "print(' - Done')\n",
    "\n",
    "print('Binarizing MultiLabels', end='')\n",
    "lb = MultiLabelBinarizer()\n",
    "y_train = lb.fit_transform(y_train)\n",
    "y_test = lb.transform(y_test)\n",
    "print(' - Done')"
   ]
  },
  {
   "cell_type": "code",
   "execution_count": null,
   "metadata": {},
   "outputs": [],
   "source": [
    "del all_docs\n",
    "del all_labels"
   ]
  },
  {
   "cell_type": "code",
   "execution_count": 10,
   "metadata": {},
   "outputs": [],
   "source": [
    "def RNN():\n",
    "    inputs = Input(name='inputs', shape=[maxlen])\n",
    "    layer = Embedding(maxwords, 512, input_length=maxlen)(inputs)\n",
    "    layer = LSTM(256)(layer)\n",
    "    layer = Dense(128, name='FC1')(layer)\n",
    "    layer = Activation('relu')(layer)\n",
    "    layer = Dropout(rate = 0.5)(layer) # rate = 1-keep_prob, keep_prob=0.5\n",
    "    layer = Dense(len(cats), name='out_layer')(layer)\n",
    "    layer = Activation('softmax')(layer)\n",
    "    model = Model(inputs=inputs, outputs=layer)\n",
    "    return model"
   ]
  },
  {
   "cell_type": "code",
   "execution_count": 11,
   "metadata": {},
   "outputs": [
    {
     "name": "stdout",
     "output_type": "stream",
     "text": [
      "_________________________________________________________________\n",
      "Layer (type)                 Output Shape              Param #   \n",
      "=================================================================\n",
      "inputs (InputLayer)          (None, 1600)              0         \n",
      "_________________________________________________________________\n",
      "embedding_1 (Embedding)      (None, 1600, 512)         3072000   \n",
      "_________________________________________________________________\n",
      "lstm_1 (LSTM)                (None, 256)               787456    \n",
      "_________________________________________________________________\n",
      "FC1 (Dense)                  (None, 128)               32896     \n",
      "_________________________________________________________________\n",
      "activation_1 (Activation)    (None, 128)               0         \n",
      "_________________________________________________________________\n",
      "dropout_1 (Dropout)          (None, 128)               0         \n",
      "_________________________________________________________________\n",
      "out_layer (Dense)            (None, 10)                1290      \n",
      "_________________________________________________________________\n",
      "activation_2 (Activation)    (None, 10)                0         \n",
      "=================================================================\n",
      "Total params: 3,893,642\n",
      "Trainable params: 3,893,642\n",
      "Non-trainable params: 0\n",
      "_________________________________________________________________\n"
     ]
    }
   ],
   "source": [
    "model = RNN()\n",
    "model.summary()\n",
    "# model.compile(loss='categorical_crossentropy', optimizer=RMSprop(lr=0.001), metrics=['accuracy'])\n",
    "model.compile(loss='categorical_crossentropy', optimizer='adam', metrics=['accuracy'])"
   ]
  },
  {
   "cell_type": "code",
   "execution_count": 12,
   "metadata": {},
   "outputs": [
    {
     "name": "stdout",
     "output_type": "stream",
     "text": [
      "Train on 5058 samples, validate on 2169 samples\n",
      "Epoch 1/25\n",
      "5058/5058 [==============================] - 125s 25ms/step - loss: 2.1586 - acc: 0.4585 - val_loss: 1.6075 - val_acc: 0.4495\n",
      "Epoch 2/25\n",
      "5058/5058 [==============================] - 121s 24ms/step - loss: 1.3776 - acc: 0.5921 - val_loss: 1.1248 - val_acc: 0.6897\n",
      "Epoch 3/25\n",
      "5058/5058 [==============================] - 120s 24ms/step - loss: 1.0614 - acc: 0.7015 - val_loss: 1.0865 - val_acc: 0.7414\n",
      "Epoch 4/25\n",
      "5058/5058 [==============================] - 120s 24ms/step - loss: 0.9561 - acc: 0.7398 - val_loss: 0.9947 - val_acc: 0.7473\n",
      "Epoch 5/25\n",
      "5058/5058 [==============================] - 121s 24ms/step - loss: 0.8432 - acc: 0.7811 - val_loss: 0.8922 - val_acc: 0.7838\n",
      "Epoch 6/25\n",
      "5058/5058 [==============================] - 121s 24ms/step - loss: 0.6692 - acc: 0.8333 - val_loss: 0.7574 - val_acc: 0.8096\n",
      "Epoch 7/25\n",
      "5058/5058 [==============================] - 121s 24ms/step - loss: 0.5510 - acc: 0.8628 - val_loss: 0.6977 - val_acc: 0.8308\n",
      "Epoch 8/25\n",
      "5058/5058 [==============================] - 121s 24ms/step - loss: 0.5074 - acc: 0.8790 - val_loss: 0.7737 - val_acc: 0.8294\n",
      "Epoch 9/25\n",
      "5058/5058 [==============================] - 120s 24ms/step - loss: 0.4559 - acc: 0.8996 - val_loss: 0.7237 - val_acc: 0.8345\n",
      "Epoch 10/25\n",
      "5058/5058 [==============================] - 121s 24ms/step - loss: 0.3757 - acc: 0.9199 - val_loss: 0.7736 - val_acc: 0.8253\n",
      "Epoch 11/25\n",
      "5058/5058 [==============================] - 120s 24ms/step - loss: 0.3436 - acc: 0.9257 - val_loss: 0.7267 - val_acc: 0.8414\n",
      "Epoch 12/25\n",
      "5058/5058 [==============================] - 121s 24ms/step - loss: 0.3134 - acc: 0.9302 - val_loss: 0.7319 - val_acc: 0.8409\n",
      "Epoch 13/25\n",
      "5058/5058 [==============================] - 120s 24ms/step - loss: 0.3500 - acc: 0.9227 - val_loss: 0.9419 - val_acc: 0.7902\n",
      "Epoch 14/25\n",
      "5058/5058 [==============================] - 120s 24ms/step - loss: 0.4158 - acc: 0.9089 - val_loss: 0.8473 - val_acc: 0.8234\n",
      "Epoch 15/25\n",
      "5058/5058 [==============================] - 121s 24ms/step - loss: 0.2971 - acc: 0.9375 - val_loss: 0.7976 - val_acc: 0.8345\n",
      "Epoch 16/25\n",
      "5058/5058 [==============================] - 120s 24ms/step - loss: 0.2751 - acc: 0.9409 - val_loss: 0.7906 - val_acc: 0.8400\n",
      "Epoch 17/25\n",
      "5058/5058 [==============================] - 121s 24ms/step - loss: 0.2502 - acc: 0.9397 - val_loss: 0.7904 - val_acc: 0.8432\n",
      "Epoch 18/25\n",
      "5058/5058 [==============================] - 120s 24ms/step - loss: 0.2439 - acc: 0.9429 - val_loss: 0.7904 - val_acc: 0.8465\n",
      "Epoch 19/25\n",
      "5058/5058 [==============================] - 121s 24ms/step - loss: 0.2380 - acc: 0.9476 - val_loss: 0.8090 - val_acc: 0.8373\n",
      "Epoch 20/25\n",
      "5058/5058 [==============================] - 121s 24ms/step - loss: 0.2257 - acc: 0.9425 - val_loss: 0.7999 - val_acc: 0.8386\n",
      "Epoch 21/25\n",
      "5058/5058 [==============================] - 121s 24ms/step - loss: 0.2135 - acc: 0.9470 - val_loss: 0.8123 - val_acc: 0.8423\n",
      "Epoch 22/25\n",
      "5058/5058 [==============================] - 121s 24ms/step - loss: 0.2105 - acc: 0.9437 - val_loss: 0.8270 - val_acc: 0.8506\n",
      "Epoch 23/25\n",
      "5058/5058 [==============================] - 121s 24ms/step - loss: 0.2053 - acc: 0.9480 - val_loss: 0.8213 - val_acc: 0.8520\n",
      "Epoch 24/25\n",
      "5058/5058 [==============================] - 121s 24ms/step - loss: 0.2046 - acc: 0.9437 - val_loss: 0.8222 - val_acc: 0.8419\n",
      "Epoch 25/25\n",
      "5058/5058 [==============================] - 120s 24ms/step - loss: 0.1989 - acc: 0.9537 - val_loss: 0.8764 - val_acc: 0.8386\n"
     ]
    }
   ],
   "source": [
    "history = model.fit(x_train, y_train, batch_size=256, epochs=25, validation_split=0.3, shuffle=True)"
   ]
  },
  {
   "cell_type": "code",
   "execution_count": 13,
   "metadata": {},
   "outputs": [],
   "source": [
    "# Save Complete Model\n",
    "model.save('tc-nltk-lstm-rnn-topcat-3.h5')\n",
    "\n",
    "# Load a Saved Model\n",
    "# model = load_model('tc-nltk-lstm-rnn.h5')\n",
    "\n",
    "# Delete a model\n",
    "# del model\n",
    "\n",
    "# Save Model Configuration to JSON\n",
    "model_json = model.to_json()\n",
    "with open('tc-nltk-lstm-rnn-topcat-3.json', 'w') as json_file:\n",
    "    json_file.write(model_json)\n",
    "model.save_weights('tc-nltk-lstm-rnn-topcat-3-weights.h5')\n",
    "\n",
    "# Load Model Configuration from JSON\n",
    "# json_file = open('tc-nltk-lstm-rnn.json', 'r')\n",
    "# loaded_model_json = json_file.read()\n",
    "# json_file.close()\n",
    "# loaded_model = model_from_json(loaded_model_json)\n",
    "# loaded_model.load_weights('tc-nltk-lstm-rnn-weights.h5')\n",
    "# loaded_model.save('tc-nltk-lstm-rnn-weights.hdf5')\n",
    "# loaded_model=load_model('tc-nltk-lstm-rnn-weights.hdf5')"
   ]
  },
  {
   "cell_type": "code",
   "execution_count": 14,
   "metadata": {},
   "outputs": [
    {
     "name": "stdout",
     "output_type": "stream",
     "text": [
      "1807/1807 [==============================] - 11s 6ms/step\n",
      "\n",
      "Loss: 0.799\tAccuracy: 0.849\n"
     ]
    }
   ],
   "source": [
    "accr = model.evaluate(x_test, y_test, batch_size=256)\n",
    "print()\n",
    "print('Loss: {:0.3f}\\tAccuracy: {:0.3f}'.format(accr[0], accr[1]))"
   ]
  },
  {
   "cell_type": "code",
   "execution_count": 15,
   "metadata": {},
   "outputs": [],
   "source": [
    "# plot_model(model, to_file='tc-nltk-lstm-4-model.png')"
   ]
  },
  {
   "cell_type": "code",
   "execution_count": 16,
   "metadata": {},
   "outputs": [
    {
     "data": {
      "image/png": "[encoded data removed]",
      "text/plain": [
       "<Figure size 432x288 with 1 Axes>"
      ]
     },
     "metadata": {
      "needs_background": "light"
     },
     "output_type": "display_data"
    },
    {
     "data": {
      "image/png": "[encoded data removed]",
      "text/plain": [
       "<Figure size 432x288 with 1 Axes>"
      ]
     },
     "metadata": {
      "needs_background": "light"
     },
     "output_type": "display_data"
    }
   ],
   "source": [
    "# Plot training & validation accuracy values\n",
    "plt.plot(history.history['acc'])\n",
    "plt.plot(history.history['val_acc'])\n",
    "plt.title('Training and Validation Accuracy - LSTM RNN')\n",
    "plt.ylabel('Accuracy')\n",
    "plt.xlabel('Epoch')\n",
    "plt.legend(['Train', 'Test'], loc='upper left')\n",
    "plt.savefig('tc-nltk-lstm-rnn-topcat-3-acc.png', dpi=300, pad_inches=0.1)\n",
    "plt.show()\n",
    "\n",
    "# Plot training & validation loss values\n",
    "plt.plot(history.history['loss'])\n",
    "plt.plot(history.history['val_loss'])\n",
    "plt.title('Training and Validation Loss - LSTM RNN')\n",
    "plt.ylabel('Loss')\n",
    "plt.xlabel('Epoch')\n",
    "plt.legend(['Train', 'Test'], loc='upper left')\n",
    "plt.savefig('tc-nltk-lstm-rnn-topcat-3-loss.png', dpi=300, pad_inches=0.1)\n",
    "plt.show()"
   ]
  },
  {
   "cell_type": "code",
   "execution_count": null,
   "metadata": {},
   "outputs": [],
   "source": []
  }
 ],
 "metadata": {
  "kernelspec": {
   "display_name": "Python 3",
   "language": "python",
   "name": "python3"
  },
  "language_info": {
   "codemirror_mode": {
    "name": "ipython",
    "version": 3
   },
   "file_extension": ".py",
   "mimetype": "text/x-python",
   "name": "python",
   "nbconvert_exporter": "python",
   "pygments_lexer": "ipython3",
   "version": "3.6.8"
  }
 },
 "nbformat": 4,
 "nbformat_minor": 2
}
