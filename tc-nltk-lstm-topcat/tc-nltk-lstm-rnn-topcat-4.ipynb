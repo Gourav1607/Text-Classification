{
 "cells": [
  {
   "cell_type": "code",
   "execution_count": 2,
   "metadata": {},
   "outputs": [],
   "source": [
    "# Text Classification / tc-nltk-lstm-rnn-topcat-4.ipynb\n",
    "# Gourav Siddhad\n",
    "# 24-Mar-2019"
   ]
  },
  {
   "cell_type": "code",
   "execution_count": 3,
   "metadata": {},
   "outputs": [
    {
     "name": "stdout",
     "output_type": "stream",
     "text": [
      "Importing Libraries"
     ]
    },
    {
     "name": "stderr",
     "output_type": "stream",
     "text": [
      "Using TensorFlow backend.\n"
     ]
    },
    {
     "name": "stdout",
     "output_type": "stream",
     "text": [
      " - Done\n"
     ]
    }
   ],
   "source": [
    "print('Importing Libraries', end='')\n",
    "\n",
    "import pandas as pd\n",
    "import numpy as np\n",
    "from numpy.random import seed\n",
    "import re\n",
    "import os\n",
    "import pandas as pd\n",
    "import time\n",
    "\n",
    "import matplotlib.pyplot as plt\n",
    "\n",
    "import seaborn as sns\n",
    "\n",
    "import nltk\n",
    "from nltk import word_tokenize\n",
    "from nltk.corpus import reuters, stopwords\n",
    "from nltk.stem.porter import PorterStemmer\n",
    "\n",
    "from sklearn.model_selection import train_test_split\n",
    "from sklearn.preprocessing import LabelEncoder\n",
    "\n",
    "from sklearn.feature_extraction.text import TfidfVectorizer, CountVectorizer\n",
    "from sklearn.preprocessing import MultiLabelBinarizer, minmax_scale\n",
    "from sklearn.metrics import accuracy_score, confusion_matrix, roc_curve, auc\n",
    "from sklearn.model_selection import train_test_split\n",
    "\n",
    "from keras.models import Model\n",
    "from keras.layers import LSTM, Activation, Dense, Dropout, Input, Embedding\n",
    "from keras.optimizers import RMSprop\n",
    "from keras.preprocessing.text import Tokenizer\n",
    "from keras.preprocessing import sequence\n",
    "from keras.utils import to_categorical, plot_model\n",
    "from keras.callbacks import EarlyStopping, ModelCheckpoint\n",
    "\n",
    "%matplotlib inline\n",
    "\n",
    "from scipy import interp\n",
    "from itertools import cycle\n",
    "\n",
    "print(' - Done')"
   ]
  },
  {
   "cell_type": "code",
   "execution_count": 4,
   "metadata": {},
   "outputs": [
    {
     "name": "stdout",
     "output_type": "stream",
     "text": [
      "Total Documents - 10788\n",
      "Extracting (Id, Docs and Labels) - Done\n",
      "Documents -  10788\n",
      "Labels  -  10788\n",
      "Categories -  90\n",
      "Caching Stop Words - Done\n"
     ]
    }
   ],
   "source": [
    "documents = reuters.fileids()\n",
    "print('Total Documents -', len(documents))\n",
    "\n",
    "print('Extracting (Id, Docs and Labels)', end='')\n",
    "train_docs_id = list(filter(lambda doc: doc.startswith(\"train\"), documents))\n",
    "test_docs_id = list(filter(lambda doc: doc.startswith(\"test\"), documents))\n",
    "\n",
    "train_docs = [reuters.raw(doc_id) for doc_id in train_docs_id]\n",
    "test_docs = [reuters.raw(doc_id) for doc_id in test_docs_id]\n",
    "all_docs = train_docs\n",
    "all_docs += test_docs\n",
    "\n",
    "train_labels = [reuters.categories(doc_id) for doc_id in train_docs_id]\n",
    "test_labels  = [reuters.categories(doc_id) for doc_id in test_docs_id]\n",
    "all_labels = train_labels\n",
    "all_labels += test_labels\n",
    "print(' - Done')\n",
    "\n",
    "del train_docs\n",
    "del test_docs\n",
    "del train_labels\n",
    "del test_labels\n",
    "\n",
    "print('Documents - ', len(all_docs))\n",
    "print('Labels  - ', len(all_labels))\n",
    "\n",
    "# List of categories\n",
    "categories = reuters.categories()\n",
    "print('Categories - ', len(categories))\n",
    "\n",
    "print('Caching Stop Words', end='')\n",
    "cachedStopWords = stopwords.words(\"english\")\n",
    "print(' - Done')"
   ]
  },
  {
   "cell_type": "code",
   "execution_count": 5,
   "metadata": {},
   "outputs": [
    {
     "name": "stdout",
     "output_type": "stream",
     "text": [
      "    Category  Count\n",
      "21      earn   3964\n",
      "0        acq   2369\n",
      "46  money-fx    717\n",
      "26     grain    582\n",
      "17     crude    578\n",
      "\n",
      "    Category  Count\n",
      "84     trade    485\n",
      "34  interest    478\n",
      "71      ship    286\n",
      "86     wheat    283\n",
      "12      corn    237\n"
     ]
    }
   ],
   "source": [
    "catcount = dict()\n",
    "topcount = 10\n",
    "\n",
    "for cat in categories:\n",
    "    catcount[cat] = 0\n",
    "\n",
    "for lab in all_labels:\n",
    "    for slab in lab:\n",
    "        catcount[slab] += 1\n",
    "\n",
    "df = pd.DataFrame.from_dict(catcount.items()) # , columns=['Category', 'Count']\n",
    "df.columns = ['Category', 'Count']\n",
    "df = df.sort_values(by=['Count'], ascending=False)\n",
    "print(df.head())\n",
    "print()\n",
    "df1 = df.head(topcount)\n",
    "print(df1.tail())"
   ]
  },
  {
   "cell_type": "code",
   "execution_count": 6,
   "metadata": {},
   "outputs": [
    {
     "name": "stdout",
     "output_type": "stream",
     "text": [
      "Original Data\n",
      "10788 10788\n",
      "\n",
      "Modified data - Using Top 10 Categories\n",
      "9034 9034\n"
     ]
    }
   ],
   "source": [
    "cats = df1['Category']\n",
    "cats = set(cats)\n",
    "\n",
    "new_labels = []\n",
    "new_docs = []\n",
    "\n",
    "for i in range(len(all_labels)):\n",
    "    templab = []\n",
    "    for lab in all_labels[i]:\n",
    "        if lab in cats:\n",
    "            templab.append(lab)\n",
    "    if len(templab) is not 0:\n",
    "        new_labels.append(templab)\n",
    "        new_docs.append(all_docs[i])\n",
    "        \n",
    "print('Original Data')\n",
    "print(len(all_labels), len(all_docs))\n",
    "print()\n",
    "print('Modified data - Using Top', topcount,'Categories')\n",
    "print(len(new_labels), len(new_docs))"
   ]
  },
  {
   "cell_type": "code",
   "execution_count": 7,
   "metadata": {},
   "outputs": [
    {
     "name": "stdout",
     "output_type": "stream",
     "text": [
      "Sorting Train:Test Docs - Done\n",
      "Tokenizing - Done\n"
     ]
    }
   ],
   "source": [
    "print('Sorting Train:Test Docs', end='')\n",
    "X_train, X_test, y_train, y_test = train_test_split(new_docs, new_labels, test_size=0.2, random_state=42)\n",
    "print(' - Done')\n",
    "\n",
    "maxwords = 6000\n",
    "\n",
    "print('Tokenizing', end='')\n",
    "tk = Tokenizer(num_words=maxwords)\n",
    "tk.fit_on_texts(X_train)\n",
    "tk.fit_on_texts(X_test)\n",
    "index_list_train = tk.texts_to_sequences(X_train)\n",
    "index_list_test = tk.texts_to_sequences(X_test)\n",
    "print(' - Done')"
   ]
  },
  {
   "cell_type": "code",
   "execution_count": 8,
   "metadata": {},
   "outputs": [
    {
     "name": "stdout",
     "output_type": "stream",
     "text": [
      "2153\n",
      "2301\n"
     ]
    }
   ],
   "source": [
    "# max of index_list_train\n",
    "# max of index_list_test\n",
    "\n",
    "maxlen = 200\n",
    "\n",
    "for i in index_list_train:\n",
    "    if len(i)>maxlen:\n",
    "        maxlen = len(i)\n",
    "print(maxlen)\n",
    "\n",
    "for i in index_list_test:\n",
    "    if len(i)>maxlen:\n",
    "        maxlen = len(i)\n",
    "print(maxlen)"
   ]
  },
  {
   "cell_type": "code",
   "execution_count": 1,
   "metadata": {},
   "outputs": [
    {
     "name": "stdout",
     "output_type": "stream",
     "text": [
      "Padding Sequences"
     ]
    },
    {
     "ename": "NameError",
     "evalue": "name 'sequence' is not defined",
     "output_type": "error",
     "traceback": [
      "\u001b[1;31m---------------------------------------------------------------------------\u001b[0m",
      "\u001b[1;31mNameError\u001b[0m                                 Traceback (most recent call last)",
      "\u001b[1;32m<ipython-input-1-fa6646701605>\u001b[0m in \u001b[0;36m<module>\u001b[1;34m\u001b[0m\n\u001b[0;32m      2\u001b[0m \u001b[1;33m\u001b[0m\u001b[0m\n\u001b[0;32m      3\u001b[0m \u001b[0mprint\u001b[0m\u001b[1;33m(\u001b[0m\u001b[1;34m'Padding Sequences'\u001b[0m\u001b[1;33m,\u001b[0m \u001b[0mend\u001b[0m\u001b[1;33m=\u001b[0m\u001b[1;34m''\u001b[0m\u001b[1;33m)\u001b[0m\u001b[1;33m\u001b[0m\u001b[1;33m\u001b[0m\u001b[0m\n\u001b[1;32m----> 4\u001b[1;33m \u001b[0mx_train\u001b[0m \u001b[1;33m=\u001b[0m \u001b[0msequence\u001b[0m\u001b[1;33m.\u001b[0m\u001b[0mpad_sequences\u001b[0m\u001b[1;33m(\u001b[0m\u001b[0mindex_list_train\u001b[0m\u001b[1;33m,\u001b[0m \u001b[0mmaxlen\u001b[0m\u001b[1;33m=\u001b[0m\u001b[0mmaxlen\u001b[0m\u001b[1;33m)\u001b[0m\u001b[1;33m\u001b[0m\u001b[1;33m\u001b[0m\u001b[0m\n\u001b[0m\u001b[0;32m      5\u001b[0m \u001b[0mx_test\u001b[0m \u001b[1;33m=\u001b[0m \u001b[0msequence\u001b[0m\u001b[1;33m.\u001b[0m\u001b[0mpad_sequences\u001b[0m\u001b[1;33m(\u001b[0m\u001b[0mindex_list_test\u001b[0m\u001b[1;33m,\u001b[0m \u001b[0mmaxlen\u001b[0m\u001b[1;33m=\u001b[0m\u001b[0mmaxlen\u001b[0m\u001b[1;33m)\u001b[0m\u001b[1;33m\u001b[0m\u001b[1;33m\u001b[0m\u001b[0m\n\u001b[0;32m      6\u001b[0m \u001b[0mprint\u001b[0m\u001b[1;33m(\u001b[0m\u001b[1;34m' - Done'\u001b[0m\u001b[1;33m)\u001b[0m\u001b[1;33m\u001b[0m\u001b[1;33m\u001b[0m\u001b[0m\n",
      "\u001b[1;31mNameError\u001b[0m: name 'sequence' is not defined"
     ]
    }
   ],
   "source": [
    "maxlen = 1600\n",
    "\n",
    "print('Padding Sequences', end='')\n",
    "x_train = sequence.pad_sequences(index_list_train, maxlen=maxlen)\n",
    "x_test = sequence.pad_sequences(index_list_test, maxlen=maxlen)\n",
    "print(' - Done')\n",
    "\n",
    "print('Binarizing MultiLabels', end='')\n",
    "lb = MultiLabelBinarizer()\n",
    "y_train = lb.fit_transform(y_train)\n",
    "y_test = lb.transform(y_test)\n",
    "print(' - Done')"
   ]
  },
  {
   "cell_type": "code",
   "execution_count": 10,
   "metadata": {},
   "outputs": [],
   "source": [
    "del all_docs\n",
    "del all_labels"
   ]
  },
  {
   "cell_type": "code",
   "execution_count": 11,
   "metadata": {},
   "outputs": [],
   "source": [
    "def RNN():\n",
    "    inputs = Input(name='inputs', shape=[maxlen])\n",
    "    layer = Embedding(maxwords, 512, input_length=maxlen)(inputs)\n",
    "    layer = LSTM(256)(layer)\n",
    "    layer = Dense(128, name='FC1')(layer)\n",
    "    layer = Activation('relu')(layer)\n",
    "    layer = Dropout(rate = 0.2)(layer) # rate = 1-keep_prob, keep_prob=0.5\n",
    "    layer = Dense(len(cats), name='out_layer')(layer)\n",
    "    layer = Activation('softmax')(layer)\n",
    "    model = Model(inputs=inputs, outputs=layer)\n",
    "    return model"
   ]
  },
  {
   "cell_type": "code",
   "execution_count": 12,
   "metadata": {},
   "outputs": [
    {
     "name": "stdout",
     "output_type": "stream",
     "text": [
      "_________________________________________________________________\n",
      "Layer (type)                 Output Shape              Param #   \n",
      "=================================================================\n",
      "inputs (InputLayer)          (None, 1600)              0         \n",
      "_________________________________________________________________\n",
      "embedding_1 (Embedding)      (None, 1600, 512)         3072000   \n",
      "_________________________________________________________________\n",
      "lstm_1 (LSTM)                (None, 256)               787456    \n",
      "_________________________________________________________________\n",
      "FC1 (Dense)                  (None, 128)               32896     \n",
      "_________________________________________________________________\n",
      "activation_1 (Activation)    (None, 128)               0         \n",
      "_________________________________________________________________\n",
      "dropout_1 (Dropout)          (None, 128)               0         \n",
      "_________________________________________________________________\n",
      "out_layer (Dense)            (None, 10)                1290      \n",
      "_________________________________________________________________\n",
      "activation_2 (Activation)    (None, 10)                0         \n",
      "=================================================================\n",
      "Total params: 3,893,642\n",
      "Trainable params: 3,893,642\n",
      "Non-trainable params: 0\n",
      "_________________________________________________________________\n"
     ]
    }
   ],
   "source": [
    "model = RNN()\n",
    "model.summary()\n",
    "# model.compile(loss='categorical_crossentropy', optimizer=RMSprop(lr=0.001), metrics=['accuracy'])\n",
    "model.compile(loss='categorical_crossentropy', optimizer='adam', metrics=['accuracy'])"
   ]
  },
  {
   "cell_type": "code",
   "execution_count": 13,
   "metadata": {},
   "outputs": [
    {
     "name": "stdout",
     "output_type": "stream",
     "text": [
      "Train on 5058 samples, validate on 2169 samples\n",
      "Epoch 1/25\n",
      "5058/5058 [==============================] - 120s 24ms/step - loss: 2.0119 - acc: 0.4472 - val_loss: 1.4551 - val_acc: 0.5652\n",
      "Epoch 2/25\n",
      "5058/5058 [==============================] - 115s 23ms/step - loss: 1.1899 - acc: 0.6576 - val_loss: 1.2025 - val_acc: 0.6588\n",
      "Epoch 3/25\n",
      "5058/5058 [==============================] - 115s 23ms/step - loss: 1.0641 - acc: 0.6957 - val_loss: 0.9940 - val_acc: 0.7248\n",
      "Epoch 4/25\n",
      "5058/5058 [==============================] - 112s 22ms/step - loss: 0.9286 - acc: 0.7539 - val_loss: 0.9077 - val_acc: 0.7962\n",
      "Epoch 5/25\n",
      "5058/5058 [==============================] - 117s 23ms/step - loss: 0.7681 - acc: 0.8098 - val_loss: 0.8233 - val_acc: 0.8041\n",
      "Epoch 6/25\n",
      "5058/5058 [==============================] - 113s 22ms/step - loss: 0.6103 - acc: 0.8430 - val_loss: 0.7336 - val_acc: 0.8303\n",
      "Epoch 7/25\n",
      "5058/5058 [==============================] - 115s 23ms/step - loss: 0.4874 - acc: 0.8897 - val_loss: 0.6567 - val_acc: 0.8483\n",
      "Epoch 8/25\n",
      "5058/5058 [==============================] - 116s 23ms/step - loss: 0.5076 - acc: 0.8889 - val_loss: 0.8611 - val_acc: 0.7930\n",
      "Epoch 9/25\n",
      "5058/5058 [==============================] - 115s 23ms/step - loss: 0.4738 - acc: 0.8907 - val_loss: 0.7140 - val_acc: 0.8349\n",
      "Epoch 10/25\n",
      "5058/5058 [==============================] - 115s 23ms/step - loss: 0.3614 - acc: 0.9087 - val_loss: 0.6704 - val_acc: 0.8377\n",
      "Epoch 11/25\n",
      "5058/5058 [==============================] - 117s 23ms/step - loss: 0.3730 - acc: 0.9051 - val_loss: 0.9692 - val_acc: 0.7335\n",
      "Epoch 12/25\n",
      "5058/5058 [==============================] - 114s 22ms/step - loss: 0.4439 - acc: 0.8978 - val_loss: 0.8370 - val_acc: 0.8059\n",
      "Epoch 13/25\n",
      "5058/5058 [==============================] - 115s 23ms/step - loss: 0.3328 - acc: 0.9292 - val_loss: 0.7630 - val_acc: 0.8220\n",
      "Epoch 14/25\n",
      "5058/5058 [==============================] - 117s 23ms/step - loss: 0.2777 - acc: 0.9415 - val_loss: 0.7497 - val_acc: 0.8262\n",
      "Epoch 15/25\n",
      "5058/5058 [==============================] - 115s 23ms/step - loss: 0.2551 - acc: 0.9442 - val_loss: 0.7636 - val_acc: 0.8317\n",
      "Epoch 16/25\n",
      "5058/5058 [==============================] - 116s 23ms/step - loss: 0.2393 - acc: 0.9502 - val_loss: 0.7682 - val_acc: 0.8368\n",
      "Epoch 17/25\n",
      "5058/5058 [==============================] - 113s 22ms/step - loss: 0.2272 - acc: 0.9524 - val_loss: 0.8036 - val_acc: 0.8253\n",
      "Epoch 18/25\n",
      "5058/5058 [==============================] - 115s 23ms/step - loss: 0.2198 - acc: 0.9496 - val_loss: 0.7861 - val_acc: 0.8400\n",
      "Epoch 19/25\n",
      "5058/5058 [==============================] - 110s 22ms/step - loss: 0.2180 - acc: 0.9472 - val_loss: 0.8223 - val_acc: 0.8400\n",
      "Epoch 20/25\n",
      "5058/5058 [==============================] - 115s 23ms/step - loss: 0.2188 - acc: 0.9494 - val_loss: 0.8398 - val_acc: 0.8373\n",
      "Epoch 21/25\n",
      "5058/5058 [==============================] - 117s 23ms/step - loss: 0.2108 - acc: 0.9504 - val_loss: 0.8270 - val_acc: 0.8317\n",
      "Epoch 22/25\n",
      "5058/5058 [==============================] - 115s 23ms/step - loss: 0.2047 - acc: 0.9472 - val_loss: 0.8197 - val_acc: 0.8349\n",
      "Epoch 23/25\n",
      "5058/5058 [==============================] - 113s 22ms/step - loss: 0.2021 - acc: 0.9478 - val_loss: 0.8835 - val_acc: 0.8276\n",
      "Epoch 24/25\n",
      "5058/5058 [==============================] - 115s 23ms/step - loss: 0.2071 - acc: 0.9480 - val_loss: 0.8526 - val_acc: 0.8230\n",
      "Epoch 25/25\n",
      "5058/5058 [==============================] - 116s 23ms/step - loss: 0.1986 - acc: 0.9470 - val_loss: 0.8667 - val_acc: 0.8322\n"
     ]
    }
   ],
   "source": [
    "history = model.fit(x_train, y_train, batch_size=256, epochs=25, validation_split=0.3, shuffle=True)"
   ]
  },
  {
   "cell_type": "code",
   "execution_count": 14,
   "metadata": {},
   "outputs": [],
   "source": [
    "# Save Complete Model\n",
    "model.save('tc-nltk-lstm-rnn-topcat-4.h5')\n",
    "\n",
    "# Load a Saved Model\n",
    "# model = load_model('tc-nltk-lstm-rnn.h5')\n",
    "\n",
    "# Delete a model\n",
    "# del model\n",
    "\n",
    "# Save Model Configuration to JSON\n",
    "model_json = model.to_json()\n",
    "with open('tc-nltk-lstm-rnn-topcat-4.json', 'w') as json_file:\n",
    "    json_file.write(model_json)\n",
    "model.save_weights('tc-nltk-lstm-rnn-topcat-4-weights.h5')\n",
    "\n",
    "# Load Model Configuration from JSON\n",
    "# json_file = open('tc-nltk-lstm-rnn.json', 'r')\n",
    "# loaded_model_json = json_file.read()\n",
    "# json_file.close()\n",
    "# loaded_model = model_from_json(loaded_model_json)\n",
    "# loaded_model.load_weights('tc-nltk-lstm-rnn-weights.h5')\n",
    "# loaded_model.save('tc-nltk-lstm-rnn-weights.hdf5')\n",
    "# loaded_model=load_model('tc-nltk-lstm-rnn-weights.hdf5')"
   ]
  },
  {
   "cell_type": "code",
   "execution_count": 15,
   "metadata": {},
   "outputs": [
    {
     "name": "stdout",
     "output_type": "stream",
     "text": [
      "1807/1807 [==============================] - 10s 5ms/step\n",
      "\n",
      "Loss: 0.770\tAccuracy: 0.858\n"
     ]
    }
   ],
   "source": [
    "accr = model.evaluate(x_test, y_test, batch_size=256)\n",
    "print()\n",
    "print('Loss: {:0.3f}\\tAccuracy: {:0.3f}'.format(accr[0], accr[1]))"
   ]
  },
  {
   "cell_type": "code",
   "execution_count": 16,
   "metadata": {},
   "outputs": [],
   "source": [
    "# plot_model(model, to_file='tc-nltk-lstm-4-model.png')"
   ]
  },
  {
   "cell_type": "code",
   "execution_count": 17,
   "metadata": {},
   "outputs": [
    {
     "data": {
      "image/png": "[encoded data removed]",
      "text/plain": [
       "<Figure size 432x288 with 1 Axes>"
      ]
     },
     "metadata": {
      "needs_background": "light"
     },
     "output_type": "display_data"
    },
    {
     "data": {
      "image/png": "[encoded data removed]",
      "text/plain": [
       "<Figure size 432x288 with 1 Axes>"
      ]
     },
     "metadata": {
      "needs_background": "light"
     },
     "output_type": "display_data"
    }
   ],
   "source": [
    "# Plot training & validation accuracy values\n",
    "plt.plot(history.history['acc'])\n",
    "plt.plot(history.history['val_acc'])\n",
    "plt.title('Training and Validation Accuracy - LSTM RNN')\n",
    "plt.ylabel('Accuracy')\n",
    "plt.xlabel('Epoch')\n",
    "plt.legend(['Train', 'Test'], loc='upper left')\n",
    "plt.savefig('tc-nltk-lstm-rnn-topcat-4-acc.png', dpi=300, pad_inches=0.1)\n",
    "plt.show()\n",
    "\n",
    "# Plot training & validation loss values\n",
    "plt.plot(history.history['loss'])\n",
    "plt.plot(history.history['val_loss'])\n",
    "plt.title('Training and Validation Loss - LSTM RNN')\n",
    "plt.ylabel('Loss')\n",
    "plt.xlabel('Epoch')\n",
    "plt.legend(['Train', 'Test'], loc='upper left')\n",
    "plt.savefig('tc-nltk-lstm-rnn-topcat-4-loss.png', dpi=300, pad_inches=0.1)\n",
    "plt.show()"
   ]
  },
  {
   "cell_type": "code",
   "execution_count": null,
   "metadata": {},
   "outputs": [],
   "source": []
  }
 ],
 "metadata": {
  "kernelspec": {
   "display_name": "Python 3",
   "language": "python",
   "name": "python3"
  },
  "language_info": {
   "codemirror_mode": {
    "name": "ipython",
    "version": 3
   },
   "file_extension": ".py",
   "mimetype": "text/x-python",
   "name": "python",
   "nbconvert_exporter": "python",
   "pygments_lexer": "ipython3",
   "version": "3.6.8"
  }
 },
 "nbformat": 4,
 "nbformat_minor": 2
}
