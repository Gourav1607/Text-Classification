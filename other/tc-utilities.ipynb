{
 "cells": [
  {
   "cell_type": "code",
   "execution_count": null,
   "metadata": {},
   "outputs": [],
   "source": [
    "def plot_roc(title, test_y, pred_y):\n",
    "    print('ROC for : ', title)\n",
    "    # Compute ROC curve and ROC area for each class\n",
    "    fpr = dict()\n",
    "    tpr = dict()\n",
    "    roc_auc = dict()\n",
    "    n_class = test_y.shape[1]\n",
    "    for i in range(n_class):\n",
    "        fpr[i], tpr[i], _ = roc_curve(test_y[:, i], pred_y[:, i])\n",
    "        roc_auc[i] = auc(fpr[i], tpr[i])\n",
    "\n",
    "    # Compute micro-average ROC curve and ROC area\n",
    "    fpr[\"micro\"], tpr[\"micro\"], _ = roc_curve(test_y.ravel(), pred_y.ravel())\n",
    "    roc_auc[\"micro\"] = auc(fpr[\"micro\"], tpr[\"micro\"])\n",
    "\n",
    "    # Compute macro-average ROC curve and ROC area\n",
    "\n",
    "    # Aggregate all false positive rates\n",
    "    all_fpr = np.unique(np.concatenate([fpr[i] for i in range(n_class)]))\n",
    "\n",
    "    # Interpolate all ROC curves\n",
    "    mean_tpr = np.zeros_like(all_fpr)\n",
    "    for i in range(n_class):\n",
    "        mean_tpr += interp(all_fpr, fpr[i], tpr[i])\n",
    "\n",
    "    # Average it and compute AUC\n",
    "    mean_tpr /= n_class\n",
    "\n",
    "    fpr[\"macro\"] = all_fpr\n",
    "    tpr[\"macro\"] = mean_tpr\n",
    "    roc_auc[\"macro\"] = auc(fpr[\"macro\"], tpr[\"macro\"])\n",
    "\n",
    "    # Plot all ROC curves\n",
    "    f, (ax1, ax2) = plt.subplots(1, 2, figsize=(18, 10))\n",
    "    ax1.plot(fpr[\"micro\"], tpr[\"micro\"], label='micro-avg ROC (area = {0:0.2f})'.format(roc_auc[\"micro\"]), color='deeppink')\n",
    "    ax1.plot(fpr[\"macro\"], tpr[\"macro\"], label='macro-avg ROC (area = {0:0.2f})'.format(roc_auc[\"macro\"]), color='navy')\n",
    "    ax1.plot([0, 1], [0, 1], 'k--')\n",
    "    ax1.set_xlabel('False Positive Rate')\n",
    "    ax1.set_ylabel('True Positive Rate')\n",
    "    ax1.set_title('ROC multi-class')\n",
    "    ax1.legend(loc=\"lower right\")\n",
    "\n",
    "    colors = cycle(['aqua', 'darkorange', 'cornflowerblue'])\n",
    "    for i, color in zip(range(n_class), colors):\n",
    "        ax2.plot(fpr[i], tpr[i], color=color, label='ROC curve of class {0} (area = {1:0.2f})'.format(i, roc_auc[i]))\n",
    "    ax2.set_title('ROC Individual Classes')\n",
    "    ax2.set_xlabel('False Positive Rate')\n",
    "    ax2.set_ylabel('True Positive Rate')\n",
    "    ax2.set_title('ROC multi-class')\n",
    "    plt.show()\n",
    "    \n",
    "    return (roc_auc)"
   ]
  },
  {
   "cell_type": "code",
   "execution_count": null,
   "metadata": {},
   "outputs": [],
   "source": [
    "roc_auc_rf = plot_roc('Random Forest', test_y, pred_y)"
   ]
  },
  {
   "cell_type": "code",
   "execution_count": null,
   "metadata": {},
   "outputs": [],
   "source": [
    "cmat_rf = confusion_matrix(test_y.argmax(axis=1), pred_y.argmax(axis=1))"
   ]
  },
  {
   "cell_type": "code",
   "execution_count": null,
   "metadata": {},
   "outputs": [],
   "source": [
    "print('Training Random Forest', end='')\n",
    "model_rf = RandomForestClassifier(n_estimators=100)\n",
    "start = time.time()\n",
    "model_rf.fit(train_lsa, train_y)\n",
    "end = time.time()\n",
    "print(' - Done')\n",
    "\n",
    "train_time_rf = end-start\n",
    "\n",
    "print('Testing Random Forest', end= '')\n",
    "start = time.time()\n",
    "pred_y = model_rf.predict(test_lsa)\n",
    "end = time.time()\n",
    "print(' - Done')\n",
    "\n",
    "test_time_rf = end-start\n",
    "\n",
    "acc_rf = accuracy_score(test_y, pred_y)\n",
    "cmat_rf = confusion_matrix(test_y.argmax(axis=1), pred_y.argmax(axis=1))\n",
    "\n",
    "print('Accuracy :', acc_rf * 100)\n",
    "print('Time Taken - Train : {0:.4f}, Test : {1:.4f}'.format(train_time_rf, test_time_rf))\n",
    "\n",
    "roc_auc_rf = plot_roc('Random Forest', test_y, pred_y)"
   ]
  },
  {
   "cell_type": "code",
   "execution_count": null,
   "metadata": {},
   "outputs": [],
   "source": [
    "print('Original Data Shape ')\n",
    "print('Train : ', train_features.shape)\n",
    "print('Test  : ', test_features.shape)\n",
    "print('Extracted Data Shape ')\n",
    "print('Train : ', train_lsa.shape)\n",
    "print('Test  : ', test_lsa.shape)\n",
    "print()\n",
    "print('Accuracy')\n",
    "print('Random Forest-100    : {0:7.4f}'.format(acc_rf*100))\n",
    "print('Decision Tree-100    : {0:7.4f}'.format(acc_dt*100))\n",
    "print('k Nearest Neighbours : {0:7.4f}'.format(acc_knn*100))\n",
    "print()\n",
    "print('Time Taken')\n",
    "print('Random Forest-100 - Train : {0:8.4f}, Test : {1:7.4f}'.format(train_time_rf, test_time_rf))\n",
    "print('Decision Tree-100 - Train : {0:8.4f}, Test : {1:7.4f}'.format(train_time_dt, test_time_dt))\n",
    "print('kNN               - Train : {0:8.4f}, Test : {1:7.4f}'.format(train_time_knn, test_time_knn))\n",
    "print()\n",
    "print('Area under ROC')\n",
    "print('Random Forest-100 - Micro : {0:7.4f}, Macro : {1:7.4f}'.format(roc_auc_rf['micro']*100, roc_auc_rf['macro']*100))\n",
    "print('Decision Tree-100 - Micro : {0:7.4f}, Macro : {1:7.4f}'.format(roc_auc_dt['micro']*100, roc_auc_dt['macro']*100))\n",
    "print('kNN               - Micro : {0:7.4f}, Macro : {1:7.4f}'.format(roc_auc_knn['micro']*100, roc_auc_knn['macro']*100))"
   ]
  },
  {
   "cell_type": "code",
   "execution_count": null,
   "metadata": {},
   "outputs": [],
   "source": [
    "print('Confusion Matrices')\n",
    "\n",
    "print('Random Forest')\n",
    "print(cmat_rf)\n",
    "\n",
    "print()\n",
    "\n",
    "print('Decision Tree')\n",
    "print(cmat_dt)\n",
    "\n",
    "print()\n",
    "\n",
    "print('kNN')\n",
    "print(cmat_knn)"
   ]
  }
 ],
 "metadata": {
  "kernelspec": {
   "display_name": "Python 3",
   "language": "python",
   "name": "python3"
  },
  "language_info": {
   "codemirror_mode": {
    "name": "ipython",
    "version": 3
   },
   "file_extension": ".py",
   "mimetype": "text/x-python",
   "name": "python",
   "nbconvert_exporter": "python",
   "pygments_lexer": "ipython3",
   "version": "3.7.2"
  }
 },
 "nbformat": 4,
 "nbformat_minor": 2
}
