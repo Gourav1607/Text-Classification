{
 "cells": [
  {
   "cell_type": "code",
   "execution_count": 1,
   "metadata": {},
   "outputs": [],
   "source": [
    "# Text Classification / tc-nltk-lstm-rnn-6.ipynb\n",
    "# Gourav Siddhad\n",
    "# 24-Mar-2019"
   ]
  },
  {
   "cell_type": "code",
   "execution_count": 2,
   "metadata": {},
   "outputs": [
    {
     "name": "stdout",
     "output_type": "stream",
     "text": [
      "Importing Libraries"
     ]
    },
    {
     "name": "stderr",
     "output_type": "stream",
     "text": [
      "Using TensorFlow backend.\n"
     ]
    },
    {
     "name": "stdout",
     "output_type": "stream",
     "text": [
      " - Done\n"
     ]
    }
   ],
   "source": [
    "print('Importing Libraries', end='')\n",
    "\n",
    "import pandas as pd\n",
    "import numpy as np\n",
    "from numpy.random import seed\n",
    "import re\n",
    "import os\n",
    "import pandas as pd\n",
    "import time\n",
    "\n",
    "import matplotlib.pyplot as plt\n",
    "\n",
    "import seaborn as sns\n",
    "\n",
    "import nltk\n",
    "from nltk import word_tokenize\n",
    "from nltk.corpus import reuters, stopwords\n",
    "from nltk.stem.porter import PorterStemmer\n",
    "\n",
    "from sklearn.model_selection import train_test_split\n",
    "from sklearn.preprocessing import LabelEncoder\n",
    "\n",
    "from sklearn.feature_extraction.text import TfidfVectorizer, CountVectorizer\n",
    "from sklearn.preprocessing import MultiLabelBinarizer, minmax_scale\n",
    "from sklearn.metrics import accuracy_score, confusion_matrix, roc_curve, auc\n",
    "from sklearn.model_selection import train_test_split\n",
    "\n",
    "from keras.models import Model\n",
    "from keras.layers import LSTM, Activation, Dense, Dropout, Input, Embedding\n",
    "from keras.optimizers import RMSprop\n",
    "from keras.preprocessing.text import Tokenizer\n",
    "from keras.preprocessing import sequence\n",
    "from keras.utils import to_categorical, plot_model\n",
    "from keras.callbacks import EarlyStopping, ModelCheckpoint\n",
    "\n",
    "%matplotlib inline\n",
    "\n",
    "from scipy import interp\n",
    "from itertools import cycle\n",
    "\n",
    "print(' - Done')"
   ]
  },
  {
   "cell_type": "code",
   "execution_count": 3,
   "metadata": {},
   "outputs": [
    {
     "name": "stdout",
     "output_type": "stream",
     "text": [
      "Total Documents - 10788\n",
      "Extracting (Id, Docs and Labels) - Done\n",
      "Documents -  10788\n",
      "Labels  -  10788\n",
      "Categories -  90\n"
     ]
    }
   ],
   "source": [
    "documents = reuters.fileids()\n",
    "print('Total Documents -', len(documents))\n",
    "\n",
    "print('Extracting (Id, Docs and Labels)', end='')\n",
    "train_docs_id = list(filter(lambda doc: doc.startswith(\"train\"), documents))\n",
    "test_docs_id = list(filter(lambda doc: doc.startswith(\"test\"), documents))\n",
    "\n",
    "train_docs = [reuters.raw(doc_id) for doc_id in train_docs_id]\n",
    "test_docs = [reuters.raw(doc_id) for doc_id in test_docs_id]\n",
    "all_docs = train_docs\n",
    "all_docs += test_docs\n",
    "\n",
    "train_labels = [reuters.categories(doc_id) for doc_id in train_docs_id]\n",
    "test_labels  = [reuters.categories(doc_id) for doc_id in test_docs_id]\n",
    "all_labels = train_labels\n",
    "all_labels += test_labels\n",
    "print(' - Done')\n",
    "\n",
    "del train_docs\n",
    "del test_docs\n",
    "del train_labels\n",
    "del test_labels\n",
    "\n",
    "print('Documents - ', len(all_docs))\n",
    "print('Labels  - ', len(all_labels))\n",
    "\n",
    "# List of categories\n",
    "categories = reuters.categories()\n",
    "print('Categories - ', len(categories))"
   ]
  },
  {
   "cell_type": "code",
   "execution_count": 4,
   "metadata": {},
   "outputs": [
    {
     "name": "stdout",
     "output_type": "stream",
     "text": [
      "Caching Stop Words - Done\n"
     ]
    }
   ],
   "source": [
    "print('Caching Stop Words', end='')\n",
    "cachedStopWords = stopwords.words(\"english\")\n",
    "print(' - Done')"
   ]
  },
  {
   "cell_type": "code",
   "execution_count": 5,
   "metadata": {},
   "outputs": [
    {
     "name": "stdout",
     "output_type": "stream",
     "text": [
      "Sorting Train:Test Docs - Done\n",
      "Tokenizing - Done\n"
     ]
    }
   ],
   "source": [
    "print('Sorting Train:Test Docs', end='')\n",
    "X_train, X_test, y_train, y_test = train_test_split(all_docs, all_labels, test_size=0.2, random_state=42)\n",
    "print(' - Done')\n",
    "\n",
    "maxwords = 5000\n",
    "\n",
    "print('Tokenizing', end='')\n",
    "tk = Tokenizer(num_words=maxwords)\n",
    "tk.fit_on_texts(X_train)\n",
    "tk.fit_on_texts(X_test)\n",
    "index_list_train = tk.texts_to_sequences(X_train)\n",
    "index_list_test = tk.texts_to_sequences(X_test)\n",
    "print(' - Done')"
   ]
  },
  {
   "cell_type": "code",
   "execution_count": 6,
   "metadata": {},
   "outputs": [
    {
     "name": "stdout",
     "output_type": "stream",
     "text": [
      "2237\n",
      "2237\n"
     ]
    }
   ],
   "source": [
    "# max of index_list_train\n",
    "# max of index_list_test\n",
    "\n",
    "maxlen = 200\n",
    "\n",
    "for i in index_list_train:\n",
    "    if len(i)>maxlen:\n",
    "        maxlen = len(i)\n",
    "print(maxlen)\n",
    "\n",
    "for i in index_list_test:\n",
    "    if len(i)>maxlen:\n",
    "        maxlen = len(i)\n",
    "print(maxlen)"
   ]
  },
  {
   "cell_type": "code",
   "execution_count": 7,
   "metadata": {},
   "outputs": [
    {
     "name": "stdout",
     "output_type": "stream",
     "text": [
      "Padding Sequences - Done\n",
      "Binarizing MultiLabels - Done\n"
     ]
    }
   ],
   "source": [
    "maxlen = 1600\n",
    "\n",
    "print('Padding Sequences', end='')\n",
    "x_train = sequence.pad_sequences(index_list_train, maxlen=maxlen)\n",
    "x_test = sequence.pad_sequences(index_list_test, maxlen=maxlen)\n",
    "print(' - Done')\n",
    "\n",
    "print('Binarizing MultiLabels', end='')\n",
    "lb = MultiLabelBinarizer()\n",
    "y_train = lb.fit_transform(y_train)\n",
    "y_test = lb.transform(y_test)\n",
    "print(' - Done')"
   ]
  },
  {
   "cell_type": "code",
   "execution_count": 8,
   "metadata": {},
   "outputs": [],
   "source": [
    "del all_docs\n",
    "del all_labels\n",
    "\n",
    "def RNN():\n",
    "    inputs = Input(name='inputs', shape=[maxlen])\n",
    "    layer = Embedding(maxwords, 512, input_length=maxlen)(inputs)\n",
    "    layer = LSTM(256)(layer)\n",
    "    layer = Dense(128, name='FC1')(layer)\n",
    "    layer = Activation('relu')(layer)\n",
    "    layer = Dropout(rate = 0.5)(layer) # rate = 1-keep_prob, keep_prob=0.5\n",
    "    layer = Dense(len(categories), name='out_layer')(layer)\n",
    "    layer = Activation('softmax')(layer)\n",
    "    model = Model(inputs=inputs, outputs=layer)\n",
    "    return model"
   ]
  },
  {
   "cell_type": "code",
   "execution_count": 9,
   "metadata": {},
   "outputs": [
    {
     "name": "stdout",
     "output_type": "stream",
     "text": [
      "_________________________________________________________________\n",
      "Layer (type)                 Output Shape              Param #   \n",
      "=================================================================\n",
      "inputs (InputLayer)          (None, 1600)              0         \n",
      "_________________________________________________________________\n",
      "embedding_1 (Embedding)      (None, 1600, 512)         2560000   \n",
      "_________________________________________________________________\n",
      "lstm_1 (LSTM)                (None, 256)               787456    \n",
      "_________________________________________________________________\n",
      "FC1 (Dense)                  (None, 128)               32896     \n",
      "_________________________________________________________________\n",
      "activation_1 (Activation)    (None, 128)               0         \n",
      "_________________________________________________________________\n",
      "dropout_1 (Dropout)          (None, 128)               0         \n",
      "_________________________________________________________________\n",
      "out_layer (Dense)            (None, 90)                11610     \n",
      "_________________________________________________________________\n",
      "activation_2 (Activation)    (None, 90)                0         \n",
      "=================================================================\n",
      "Total params: 3,391,962\n",
      "Trainable params: 3,391,962\n",
      "Non-trainable params: 0\n",
      "_________________________________________________________________\n"
     ]
    }
   ],
   "source": [
    "model = RNN()\n",
    "model.summary()\n",
    "# model.compile(loss='categorical_crossentropy', optimizer=RMSprop(lr=0.001), metrics=['accuracy'])\n",
    "model.compile(loss='mse', optimizer='adam', metrics=['accuracy'])"
   ]
  },
  {
   "cell_type": "code",
   "execution_count": 10,
   "metadata": {},
   "outputs": [
    {
     "name": "stdout",
     "output_type": "stream",
     "text": [
      "Train on 6041 samples, validate on 2589 samples\n",
      "Epoch 1/100\n",
      "6041/6041 [==============================] - 184s 30ms/step - loss: 0.0134 - acc: 0.2943 - val_loss: 0.0135 - val_acc: 0.3766\n",
      "Epoch 2/100\n",
      "6041/6041 [==============================] - 181s 30ms/step - loss: 0.0122 - acc: 0.3443 - val_loss: 0.0114 - val_acc: 0.3766\n",
      "Epoch 3/100\n",
      "6041/6041 [==============================] - 193s 32ms/step - loss: 0.0107 - acc: 0.3960 - val_loss: 0.0097 - val_acc: 0.4708\n",
      "Epoch 4/100\n",
      "6041/6041 [==============================] - 194s 32ms/step - loss: 0.0114 - acc: 0.3827 - val_loss: 0.0102 - val_acc: 0.4013\n",
      "Epoch 5/100\n",
      "6041/6041 [==============================] - 195s 32ms/step - loss: 0.0108 - acc: 0.3837 - val_loss: 0.0098 - val_acc: 0.3422\n",
      "Epoch 6/100\n",
      "6041/6041 [==============================] - 197s 33ms/step - loss: 0.0095 - acc: 0.4991 - val_loss: 0.0094 - val_acc: 0.5481\n",
      "Epoch 7/100\n",
      "6041/6041 [==============================] - 190s 31ms/step - loss: 0.0091 - acc: 0.5335 - val_loss: 0.0090 - val_acc: 0.5485\n",
      "Epoch 8/100\n",
      "6041/6041 [==============================] - 185s 31ms/step - loss: 0.0088 - acc: 0.5435 - val_loss: 0.0086 - val_acc: 0.5678\n",
      "Epoch 9/100\n",
      "6041/6041 [==============================] - 190s 31ms/step - loss: 0.0081 - acc: 0.5613 - val_loss: 0.0079 - val_acc: 0.5755\n",
      "Epoch 10/100\n",
      "6041/6041 [==============================] - 189s 31ms/step - loss: 0.0077 - acc: 0.5673 - val_loss: 0.0084 - val_acc: 0.5473\n",
      "Epoch 11/100\n",
      "6041/6041 [==============================] - 186s 31ms/step - loss: 0.0076 - acc: 0.5794 - val_loss: 0.0078 - val_acc: 0.5890\n",
      "Epoch 12/100\n",
      "6041/6041 [==============================] - 191s 32ms/step - loss: 0.0078 - acc: 0.5660 - val_loss: 0.0091 - val_acc: 0.4956\n",
      "Epoch 13/100\n",
      "6041/6041 [==============================] - 190s 32ms/step - loss: 0.0084 - acc: 0.5393 - val_loss: 0.0081 - val_acc: 0.5964\n",
      "Epoch 14/100\n",
      "6041/6041 [==============================] - 184s 30ms/step - loss: 0.0076 - acc: 0.5911 - val_loss: 0.0076 - val_acc: 0.5991\n",
      "Epoch 15/100\n",
      "6041/6041 [==============================] - 187s 31ms/step - loss: 0.0074 - acc: 0.5921 - val_loss: 0.0076 - val_acc: 0.6002\n",
      "Epoch 16/100\n",
      "6041/6041 [==============================] - 182s 30ms/step - loss: 0.0074 - acc: 0.5943 - val_loss: 0.0076 - val_acc: 0.5952\n",
      "Epoch 17/100\n",
      "6041/6041 [==============================] - 189s 31ms/step - loss: 0.0074 - acc: 0.5918 - val_loss: 0.0076 - val_acc: 0.6002\n",
      "Epoch 18/100\n",
      "6041/6041 [==============================] - 186s 31ms/step - loss: 0.0074 - acc: 0.5946 - val_loss: 0.0076 - val_acc: 0.6095\n",
      "Epoch 19/100\n",
      "6041/6041 [==============================] - 187s 31ms/step - loss: 0.0073 - acc: 0.5994 - val_loss: 0.0076 - val_acc: 0.6045\n",
      "Epoch 20/100\n",
      "6041/6041 [==============================] - 185s 31ms/step - loss: 0.0073 - acc: 0.6080 - val_loss: 0.0075 - val_acc: 0.6242\n",
      "Epoch 21/100\n",
      "6041/6041 [==============================] - 191s 32ms/step - loss: 0.0076 - acc: 0.6072 - val_loss: 0.0111 - val_acc: 0.5419\n",
      "Epoch 22/100\n",
      "6041/6041 [==============================] - 184s 30ms/step - loss: 0.0089 - acc: 0.5292 - val_loss: 0.0078 - val_acc: 0.5998\n",
      "Epoch 23/100\n",
      "6041/6041 [==============================] - 188s 31ms/step - loss: 0.0072 - acc: 0.6062 - val_loss: 0.0073 - val_acc: 0.6184\n",
      "Epoch 24/100\n",
      "6041/6041 [==============================] - 185s 31ms/step - loss: 0.0073 - acc: 0.5961 - val_loss: 0.0075 - val_acc: 0.5809\n",
      "Epoch 25/100\n",
      "6041/6041 [==============================] - 190s 31ms/step - loss: 0.0071 - acc: 0.6143 - val_loss: 0.0074 - val_acc: 0.5736\n",
      "Epoch 26/100\n",
      "6041/6041 [==============================] - 187s 31ms/step - loss: 0.0071 - acc: 0.6004 - val_loss: 0.0075 - val_acc: 0.6222\n",
      "Epoch 27/100\n",
      "6041/6041 [==============================] - 185s 31ms/step - loss: 0.0070 - acc: 0.6224 - val_loss: 0.0072 - val_acc: 0.6134\n",
      "Epoch 28/100\n",
      "6041/6041 [==============================] - 187s 31ms/step - loss: 0.0066 - acc: 0.6433 - val_loss: 0.0070 - val_acc: 0.6277\n",
      "Epoch 29/100\n",
      "6041/6041 [==============================] - 183s 30ms/step - loss: 0.0068 - acc: 0.6242 - val_loss: 0.0073 - val_acc: 0.5983\n",
      "Epoch 30/100\n",
      "6041/6041 [==============================] - 186s 31ms/step - loss: 0.0065 - acc: 0.6464 - val_loss: 0.0071 - val_acc: 0.6373\n",
      "Epoch 31/100\n",
      "6041/6041 [==============================] - 185s 31ms/step - loss: 0.0062 - acc: 0.6754 - val_loss: 0.0069 - val_acc: 0.6396\n",
      "Epoch 32/100\n",
      "6041/6041 [==============================] - 189s 31ms/step - loss: 0.0060 - acc: 0.6921 - val_loss: 0.0066 - val_acc: 0.6620\n",
      "Epoch 33/100\n",
      "6041/6041 [==============================] - 186s 31ms/step - loss: 0.0059 - acc: 0.6913 - val_loss: 0.0068 - val_acc: 0.6578\n",
      "Epoch 34/100\n",
      "6041/6041 [==============================] - 189s 31ms/step - loss: 0.0057 - acc: 0.7058 - val_loss: 0.0065 - val_acc: 0.6798\n",
      "Epoch 35/100\n",
      "6041/6041 [==============================] - 188s 31ms/step - loss: 0.0055 - acc: 0.7173 - val_loss: 0.0064 - val_acc: 0.6810\n",
      "Epoch 36/100\n",
      "6041/6041 [==============================] - 185s 31ms/step - loss: 0.0054 - acc: 0.7207 - val_loss: 0.0066 - val_acc: 0.6786\n",
      "Epoch 37/100\n",
      "6041/6041 [==============================] - 190s 32ms/step - loss: 0.0054 - acc: 0.7249 - val_loss: 0.0064 - val_acc: 0.6887\n",
      "Epoch 38/100\n",
      "6041/6041 [==============================] - 188s 31ms/step - loss: 0.0053 - acc: 0.7292 - val_loss: 0.0063 - val_acc: 0.6868\n",
      "Epoch 39/100\n",
      "6041/6041 [==============================] - 188s 31ms/step - loss: 0.0057 - acc: 0.7044 - val_loss: 0.0067 - val_acc: 0.6531\n",
      "Epoch 40/100\n",
      "6041/6041 [==============================] - 189s 31ms/step - loss: 0.0054 - acc: 0.7267 - val_loss: 0.0064 - val_acc: 0.6844\n",
      "Epoch 41/100\n",
      "6041/6041 [==============================] - 188s 31ms/step - loss: 0.0054 - acc: 0.7222 - val_loss: 0.0063 - val_acc: 0.6875\n",
      "Epoch 42/100\n",
      "6041/6041 [==============================] - 188s 31ms/step - loss: 0.0049 - acc: 0.7477 - val_loss: 0.0062 - val_acc: 0.6949\n",
      "Epoch 43/100\n",
      "6041/6041 [==============================] - 188s 31ms/step - loss: 0.0051 - acc: 0.7403 - val_loss: 0.0073 - val_acc: 0.6184\n",
      "Epoch 44/100\n",
      "6041/6041 [==============================] - 190s 31ms/step - loss: 0.0058 - acc: 0.7012 - val_loss: 0.0067 - val_acc: 0.6717\n",
      "Epoch 45/100\n",
      "6041/6041 [==============================] - 189s 31ms/step - loss: 0.0054 - acc: 0.7289 - val_loss: 0.0064 - val_acc: 0.6771\n",
      "Epoch 46/100\n",
      "6041/6041 [==============================] - 189s 31ms/step - loss: 0.0055 - acc: 0.7234 - val_loss: 0.0064 - val_acc: 0.6891\n",
      "Epoch 47/100\n",
      "6041/6041 [==============================] - 185s 31ms/step - loss: 0.0049 - acc: 0.7486 - val_loss: 0.0062 - val_acc: 0.6906\n",
      "Epoch 48/100\n",
      "6041/6041 [==============================] - 185s 31ms/step - loss: 0.0048 - acc: 0.7535 - val_loss: 0.0063 - val_acc: 0.6887\n",
      "Epoch 49/100\n",
      "6041/6041 [==============================] - 187s 31ms/step - loss: 0.0048 - acc: 0.7605 - val_loss: 0.0062 - val_acc: 0.6929\n",
      "Epoch 50/100\n",
      "6041/6041 [==============================] - 191s 32ms/step - loss: 0.0046 - acc: 0.7686 - val_loss: 0.0062 - val_acc: 0.7022\n",
      "Epoch 51/100\n",
      "6041/6041 [==============================] - 191s 32ms/step - loss: 0.0046 - acc: 0.7644 - val_loss: 0.0062 - val_acc: 0.6902\n",
      "Epoch 52/100\n",
      "6041/6041 [==============================] - 186s 31ms/step - loss: 0.0045 - acc: 0.7683 - val_loss: 0.0061 - val_acc: 0.7003\n",
      "Epoch 53/100\n",
      "6041/6041 [==============================] - 188s 31ms/step - loss: 0.0048 - acc: 0.7542 - val_loss: 0.0061 - val_acc: 0.7095\n",
      "Epoch 54/100\n",
      "6041/6041 [==============================] - 187s 31ms/step - loss: 0.0047 - acc: 0.7557 - val_loss: 0.0062 - val_acc: 0.7010\n",
      "Epoch 55/100\n",
      "6041/6041 [==============================] - 187s 31ms/step - loss: 0.0045 - acc: 0.7687 - val_loss: 0.0061 - val_acc: 0.7034\n",
      "Epoch 56/100\n",
      "6041/6041 [==============================] - 186s 31ms/step - loss: 0.0058 - acc: 0.7133 - val_loss: 0.0072 - val_acc: 0.6107\n",
      "Epoch 57/100\n",
      "6041/6041 [==============================] - 186s 31ms/step - loss: 0.0059 - acc: 0.6827 - val_loss: 0.0068 - val_acc: 0.6582\n",
      "Epoch 58/100\n",
      "6041/6041 [==============================] - 189s 31ms/step - loss: 0.0053 - acc: 0.7289 - val_loss: 0.0065 - val_acc: 0.6852\n",
      "Epoch 59/100\n"
     ]
    },
    {
     "name": "stdout",
     "output_type": "stream",
     "text": [
      "6041/6041 [==============================] - 189s 31ms/step - loss: 0.0052 - acc: 0.7346 - val_loss: 0.0064 - val_acc: 0.6883\n",
      "Epoch 60/100\n",
      "6041/6041 [==============================] - 191s 32ms/step - loss: 0.0049 - acc: 0.7469 - val_loss: 0.0062 - val_acc: 0.6960\n",
      "Epoch 61/100\n",
      "6041/6041 [==============================] - 189s 31ms/step - loss: 0.0046 - acc: 0.7633 - val_loss: 0.0061 - val_acc: 0.7072\n",
      "Epoch 62/100\n",
      "6041/6041 [==============================] - 187s 31ms/step - loss: 0.0046 - acc: 0.7651 - val_loss: 0.0062 - val_acc: 0.7010\n",
      "Epoch 63/100\n",
      "6041/6041 [==============================] - 189s 31ms/step - loss: 0.0047 - acc: 0.7550 - val_loss: 0.0064 - val_acc: 0.6856\n",
      "Epoch 64/100\n",
      "6041/6041 [==============================] - 187s 31ms/step - loss: 0.0045 - acc: 0.7636 - val_loss: 0.0061 - val_acc: 0.7030\n",
      "Epoch 65/100\n",
      "6041/6041 [==============================] - 186s 31ms/step - loss: 0.0043 - acc: 0.7740 - val_loss: 0.0059 - val_acc: 0.7061\n",
      "Epoch 66/100\n",
      "6041/6041 [==============================] - 191s 32ms/step - loss: 0.0043 - acc: 0.7737 - val_loss: 0.0061 - val_acc: 0.7053\n",
      "Epoch 67/100\n",
      "6041/6041 [==============================] - 190s 31ms/step - loss: 0.0042 - acc: 0.7860 - val_loss: 0.0059 - val_acc: 0.7165\n",
      "Epoch 68/100\n",
      "6041/6041 [==============================] - 184s 30ms/step - loss: 0.0041 - acc: 0.7876 - val_loss: 0.0059 - val_acc: 0.7184\n",
      "Epoch 69/100\n",
      "6041/6041 [==============================] - 185s 31ms/step - loss: 0.0041 - acc: 0.7913 - val_loss: 0.0059 - val_acc: 0.7153\n",
      "Epoch 70/100\n",
      "6041/6041 [==============================] - 183s 30ms/step - loss: 0.0040 - acc: 0.7949 - val_loss: 0.0059 - val_acc: 0.7177\n",
      "Epoch 71/100\n",
      "6041/6041 [==============================] - 190s 31ms/step - loss: 0.0040 - acc: 0.7949 - val_loss: 0.0058 - val_acc: 0.7261\n",
      "Epoch 72/100\n",
      "6041/6041 [==============================] - 189s 31ms/step - loss: 0.0039 - acc: 0.8017 - val_loss: 0.0057 - val_acc: 0.7304\n",
      "Epoch 73/100\n",
      "6041/6041 [==============================] - 186s 31ms/step - loss: 0.0045 - acc: 0.7706 - val_loss: 0.0066 - val_acc: 0.6725\n",
      "Epoch 74/100\n",
      "6041/6041 [==============================] - 187s 31ms/step - loss: 0.0044 - acc: 0.7752 - val_loss: 0.0059 - val_acc: 0.7134\n",
      "Epoch 75/100\n",
      "6041/6041 [==============================] - 187s 31ms/step - loss: 0.0041 - acc: 0.7957 - val_loss: 0.0058 - val_acc: 0.7227\n",
      "Epoch 76/100\n",
      "6041/6041 [==============================] - 186s 31ms/step - loss: 0.0039 - acc: 0.8024 - val_loss: 0.0057 - val_acc: 0.7296\n",
      "Epoch 77/100\n",
      "6041/6041 [==============================] - 187s 31ms/step - loss: 0.0039 - acc: 0.8076 - val_loss: 0.0058 - val_acc: 0.7289\n",
      "Epoch 78/100\n",
      "6041/6041 [==============================] - 186s 31ms/step - loss: 0.0039 - acc: 0.8040 - val_loss: 0.0057 - val_acc: 0.7335\n",
      "Epoch 79/100\n",
      "6041/6041 [==============================] - 190s 31ms/step - loss: 0.0039 - acc: 0.8062 - val_loss: 0.0059 - val_acc: 0.7180\n",
      "Epoch 80/100\n",
      "6041/6041 [==============================] - 191s 32ms/step - loss: 0.0038 - acc: 0.8108 - val_loss: 0.0057 - val_acc: 0.7265\n",
      "Epoch 81/100\n",
      "6041/6041 [==============================] - 187s 31ms/step - loss: 0.0038 - acc: 0.8133 - val_loss: 0.0059 - val_acc: 0.7223\n",
      "Epoch 82/100\n",
      "6041/6041 [==============================] - 189s 31ms/step - loss: 0.0038 - acc: 0.8156 - val_loss: 0.0057 - val_acc: 0.7323\n",
      "Epoch 83/100\n",
      "6041/6041 [==============================] - 190s 31ms/step - loss: 0.0037 - acc: 0.8154 - val_loss: 0.0057 - val_acc: 0.7316\n",
      "Epoch 84/100\n",
      "6041/6041 [==============================] - 191s 32ms/step - loss: 0.0036 - acc: 0.8259 - val_loss: 0.0057 - val_acc: 0.7269\n",
      "Epoch 85/100\n",
      "6041/6041 [==============================] - 184s 30ms/step - loss: 0.0036 - acc: 0.8270 - val_loss: 0.0056 - val_acc: 0.7431\n",
      "Epoch 86/100\n",
      "6041/6041 [==============================] - 186s 31ms/step - loss: 0.0035 - acc: 0.8303 - val_loss: 0.0057 - val_acc: 0.7358\n",
      "Epoch 87/100\n",
      "6041/6041 [==============================] - 188s 31ms/step - loss: 0.0035 - acc: 0.8374 - val_loss: 0.0056 - val_acc: 0.7424\n",
      "Epoch 88/100\n",
      "6041/6041 [==============================] - 189s 31ms/step - loss: 0.0034 - acc: 0.8355 - val_loss: 0.0056 - val_acc: 0.7443\n",
      "Epoch 89/100\n",
      "6041/6041 [==============================] - 188s 31ms/step - loss: 0.0034 - acc: 0.8376 - val_loss: 0.0055 - val_acc: 0.7493\n",
      "Epoch 90/100\n",
      "6041/6041 [==============================] - 188s 31ms/step - loss: 0.0033 - acc: 0.8406 - val_loss: 0.0056 - val_acc: 0.7462\n",
      "Epoch 91/100\n",
      "6041/6041 [==============================] - 186s 31ms/step - loss: 0.0033 - acc: 0.8446 - val_loss: 0.0055 - val_acc: 0.7489\n",
      "Epoch 92/100\n",
      "6041/6041 [==============================] - 185s 31ms/step - loss: 0.0033 - acc: 0.8465 - val_loss: 0.0055 - val_acc: 0.7431\n",
      "Epoch 93/100\n",
      "6041/6041 [==============================] - 187s 31ms/step - loss: 0.0032 - acc: 0.8475 - val_loss: 0.0056 - val_acc: 0.7435\n",
      "Epoch 94/100\n",
      "6041/6041 [==============================] - 182s 30ms/step - loss: 0.0032 - acc: 0.8510 - val_loss: 0.0056 - val_acc: 0.7455\n",
      "Epoch 95/100\n",
      "6041/6041 [==============================] - 189s 31ms/step - loss: 0.0033 - acc: 0.8464 - val_loss: 0.0057 - val_acc: 0.7389\n",
      "Epoch 96/100\n",
      "6041/6041 [==============================] - 187s 31ms/step - loss: 0.0032 - acc: 0.8462 - val_loss: 0.0054 - val_acc: 0.7551\n",
      "Epoch 97/100\n",
      "6041/6041 [==============================] - 187s 31ms/step - loss: 0.0031 - acc: 0.8540 - val_loss: 0.0056 - val_acc: 0.7497\n",
      "Epoch 98/100\n",
      "6041/6041 [==============================] - 189s 31ms/step - loss: 0.0031 - acc: 0.8532 - val_loss: 0.0055 - val_acc: 0.7486\n",
      "Epoch 99/100\n",
      "6041/6041 [==============================] - 189s 31ms/step - loss: 0.0031 - acc: 0.8545 - val_loss: 0.0054 - val_acc: 0.7524\n",
      "Epoch 100/100\n",
      "6041/6041 [==============================] - 187s 31ms/step - loss: 0.0030 - acc: 0.8571 - val_loss: 0.0055 - val_acc: 0.7563\n"
     ]
    }
   ],
   "source": [
    "history = model.fit(x_train, y_train, batch_size=256, epochs=100, validation_split=0.3, shuffle=True)"
   ]
  },
  {
   "cell_type": "code",
   "execution_count": 11,
   "metadata": {},
   "outputs": [],
   "source": [
    "# Save Complete Model\n",
    "model.save('tc-nltk-lstm-rnn-6.h5')\n",
    "\n",
    "# Load a Saved Model\n",
    "# model = load_model('tc-nltk-lstm-rnn.h5')\n",
    "\n",
    "# Delete a model\n",
    "# del model\n",
    "\n",
    "# Save Model Configuration to JSON\n",
    "model_json = model.to_json()\n",
    "with open('tc-nltk-lstm-rnn-6.json', 'w') as json_file:\n",
    "    json_file.write(model_json)\n",
    "model.save_weights('tc-nltk-lstm-rnn-6-weights.h5')\n",
    "\n",
    "# Load Model Configuration from JSON\n",
    "# json_file = open('tc-nltk-lstm-rnn.json', 'r')\n",
    "# loaded_model_json = json_file.read()\n",
    "# json_file.close()\n",
    "# loaded_model = model_from_json(loaded_model_json)\n",
    "# loaded_model.load_weights('tc-nltk-lstm-rnn-weights.h5')\n",
    "# loaded_model.save('tc-nltk-lstm-rnn-weights.hdf5')\n",
    "# loaded_model=load_model('tc-nltk-lstm-rnn-weights.hdf5')"
   ]
  },
  {
   "cell_type": "code",
   "execution_count": 12,
   "metadata": {},
   "outputs": [
    {
     "name": "stdout",
     "output_type": "stream",
     "text": [
      "2158/2158 [==============================] - 23s 10ms/step\n",
      "\n",
      "Loss: 0.006\tAccuracy: 0.745\n"
     ]
    }
   ],
   "source": [
    "accr = model.evaluate(x_test, y_test, batch_size=256)\n",
    "print()\n",
    "print('Loss: {:0.3f}\\tAccuracy: {:0.3f}'.format(accr[0], accr[1]))"
   ]
  },
  {
   "cell_type": "code",
   "execution_count": 13,
   "metadata": {},
   "outputs": [],
   "source": [
    "# plot_model(model, to_file='tc-nltk-lstm-4-model.png')"
   ]
  },
  {
   "cell_type": "code",
   "execution_count": 14,
   "metadata": {},
   "outputs": [
    {
     "data": {
      "image/png": "[encoded data removed]",
      "text/plain": [
       "<Figure size 432x288 with 1 Axes>"
      ]
     },
     "metadata": {
      "needs_background": "light"
     },
     "output_type": "display_data"
    },
    {
     "data": {
      "image/png": "[encoded data removed]",
      "text/plain": [
       "<Figure size 432x288 with 1 Axes>"
      ]
     },
     "metadata": {
      "needs_background": "light"
     },
     "output_type": "display_data"
    }
   ],
   "source": [
    "# Plot training & validation accuracy values\n",
    "plt.plot(history.history['acc'])\n",
    "plt.plot(history.history['val_acc'])\n",
    "plt.title('Training and Validation Accuracy - LSTM RNN')\n",
    "plt.ylabel('Accuracy')\n",
    "plt.xlabel('Epoch')\n",
    "plt.legend(['Train', 'Test'], loc='upper left')\n",
    "plt.savefig('tc-nltk-lstm-rnn-6-acc.png', dpi=300, pad_inches=0.1)\n",
    "plt.show()\n",
    "\n",
    "# Plot training & validation loss values\n",
    "plt.plot(history.history['loss'])\n",
    "plt.plot(history.history['val_loss'])\n",
    "plt.title('Training and Validation Loss - LSTM RNN')\n",
    "plt.ylabel('Loss')\n",
    "plt.xlabel('Epoch')\n",
    "plt.legend(['Train', 'Test'], loc='upper left')\n",
    "plt.savefig('tc-nltk-lstm-rnn-6-loss.png', dpi=300, pad_inches=0.1)\n",
    "plt.show()"
   ]
  },
  {
   "cell_type": "code",
   "execution_count": null,
   "metadata": {},
   "outputs": [],
   "source": []
  }
 ],
 "metadata": {
  "kernelspec": {
   "display_name": "Python 3",
   "language": "python",
   "name": "python3"
  },
  "language_info": {
   "codemirror_mode": {
    "name": "ipython",
    "version": 3
   },
   "file_extension": ".py",
   "mimetype": "text/x-python",
   "name": "python",
   "nbconvert_exporter": "python",
   "pygments_lexer": "ipython3",
   "version": "3.6.8"
  }
 },
 "nbformat": 4,
 "nbformat_minor": 2
}
