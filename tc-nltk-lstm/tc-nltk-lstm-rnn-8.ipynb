{
 "cells": [
  {
   "cell_type": "code",
   "execution_count": 1,
   "metadata": {},
   "outputs": [],
   "source": [
    "# Text Classification / tc-nltk-lstm-rnn-8.ipynb\n",
    "# Gourav Siddhad\n",
    "# 26-Mar-2019"
   ]
  },
  {
   "cell_type": "code",
   "execution_count": 2,
   "metadata": {},
   "outputs": [
    {
     "name": "stdout",
     "output_type": "stream",
     "text": [
      "Importing Libraries"
     ]
    },
    {
     "name": "stderr",
     "output_type": "stream",
     "text": [
      "Using TensorFlow backend.\n"
     ]
    },
    {
     "name": "stdout",
     "output_type": "stream",
     "text": [
      " - Done\n"
     ]
    }
   ],
   "source": [
    "print('Importing Libraries', end='')\n",
    "\n",
    "import pandas as pd\n",
    "import numpy as np\n",
    "from numpy.random import seed\n",
    "import re\n",
    "import os\n",
    "import pandas as pd\n",
    "import time\n",
    "\n",
    "import matplotlib.pyplot as plt\n",
    "\n",
    "import seaborn as sns\n",
    "\n",
    "import nltk\n",
    "from nltk import word_tokenize\n",
    "from nltk.corpus import reuters, stopwords\n",
    "from nltk.stem.porter import PorterStemmer\n",
    "\n",
    "from sklearn.model_selection import train_test_split\n",
    "from sklearn.preprocessing import LabelEncoder\n",
    "\n",
    "from sklearn.feature_extraction.text import TfidfVectorizer, CountVectorizer\n",
    "from sklearn.preprocessing import MultiLabelBinarizer, minmax_scale\n",
    "from sklearn.metrics import accuracy_score, confusion_matrix, roc_curve, auc\n",
    "from sklearn.model_selection import train_test_split\n",
    "\n",
    "from keras.models import Model, model_from_json, load_model\n",
    "from keras.layers import LSTM, Activation, Dense, Dropout, Input, Embedding\n",
    "from keras.optimizers import RMSprop\n",
    "from keras.preprocessing.text import Tokenizer\n",
    "from keras.preprocessing import sequence\n",
    "from keras.utils import to_categorical, plot_model\n",
    "from keras.callbacks import EarlyStopping, ModelCheckpoint\n",
    "\n",
    "%matplotlib inline\n",
    "\n",
    "from scipy import interp\n",
    "from itertools import cycle\n",
    "\n",
    "print(' - Done')"
   ]
  },
  {
   "cell_type": "code",
   "execution_count": 3,
   "metadata": {},
   "outputs": [
    {
     "name": "stdout",
     "output_type": "stream",
     "text": [
      "Total Documents - 10788\n",
      "Extracting (Id, Docs and Labels) - Done\n",
      "Documents -  10788\n",
      "Labels  -  10788\n",
      "Categories -  90\n",
      "Caching Stop Words - Done\n"
     ]
    }
   ],
   "source": [
    "documents = reuters.fileids()\n",
    "print('Total Documents -', len(documents))\n",
    "\n",
    "print('Extracting (Id, Docs and Labels)', end='')\n",
    "train_docs_id = list(filter(lambda doc: doc.startswith(\"train\"), documents))\n",
    "test_docs_id = list(filter(lambda doc: doc.startswith(\"test\"), documents))\n",
    "\n",
    "train_docs = [reuters.raw(doc_id) for doc_id in train_docs_id]\n",
    "test_docs = [reuters.raw(doc_id) for doc_id in test_docs_id]\n",
    "all_docs = train_docs\n",
    "all_docs += test_docs\n",
    "\n",
    "train_labels = [reuters.categories(doc_id) for doc_id in train_docs_id]\n",
    "test_labels  = [reuters.categories(doc_id) for doc_id in test_docs_id]\n",
    "all_labels = train_labels\n",
    "all_labels += test_labels\n",
    "print(' - Done')\n",
    "\n",
    "del train_docs\n",
    "del test_docs\n",
    "del train_labels\n",
    "del test_labels\n",
    "\n",
    "print('Documents - ', len(all_docs))\n",
    "print('Labels  - ', len(all_labels))\n",
    "\n",
    "# List of categories\n",
    "categories = reuters.categories()\n",
    "print('Categories - ', len(categories))\n",
    "\n",
    "print('Caching Stop Words', end='')\n",
    "cachedStopWords = stopwords.words(\"english\")\n",
    "print(' - Done')"
   ]
  },
  {
   "cell_type": "code",
   "execution_count": 6,
   "metadata": {},
   "outputs": [
    {
     "name": "stdout",
     "output_type": "stream",
     "text": [
      "Sorting Train:Test Docs - Done\n",
      "Tokenizing - Done\n"
     ]
    }
   ],
   "source": [
    "print('Sorting Train:Test Docs', end='')\n",
    "X_train, X_test, y_train, y_test = train_test_split(all_docs, all_labels, test_size=0.2, random_state=42)\n",
    "print(' - Done')\n",
    "\n",
    "maxwords = 6000\n",
    "\n",
    "print('Tokenizing', end='')\n",
    "tk = Tokenizer(num_words=maxwords)\n",
    "tk.fit_on_texts(X_train)\n",
    "tk.fit_on_texts(X_test)\n",
    "index_list_train = tk.texts_to_sequences(X_train)\n",
    "index_list_test = tk.texts_to_sequences(X_test)\n",
    "print(' - Done')"
   ]
  },
  {
   "cell_type": "code",
   "execution_count": 7,
   "metadata": {},
   "outputs": [
    {
     "name": "stdout",
     "output_type": "stream",
     "text": [
      "2306\n",
      "2306\n"
     ]
    }
   ],
   "source": [
    "# max of index_list_train\n",
    "# max of index_list_test\n",
    "\n",
    "maxlen = 200\n",
    "\n",
    "for i in index_list_train:\n",
    "    if len(i)>maxlen:\n",
    "        maxlen = len(i)\n",
    "print(maxlen)\n",
    "\n",
    "for i in index_list_test:\n",
    "    if len(i)>maxlen:\n",
    "        maxlen = len(i)\n",
    "print(maxlen)"
   ]
  },
  {
   "cell_type": "code",
   "execution_count": 8,
   "metadata": {},
   "outputs": [
    {
     "name": "stdout",
     "output_type": "stream",
     "text": [
      "Padding Sequences - Done\n",
      "Binarizing MultiLabels - Done\n"
     ]
    }
   ],
   "source": [
    "maxlen = 1600\n",
    "\n",
    "print('Padding Sequences', end='')\n",
    "x_train = sequence.pad_sequences(index_list_train, maxlen=maxlen)\n",
    "x_test = sequence.pad_sequences(index_list_test, maxlen=maxlen)\n",
    "print(' - Done')\n",
    "\n",
    "print('Binarizing MultiLabels', end='')\n",
    "lb = MultiLabelBinarizer()\n",
    "y_train = lb.fit_transform(y_train)\n",
    "y_test = lb.transform(y_test)\n",
    "print(' - Done')"
   ]
  },
  {
   "cell_type": "code",
   "execution_count": 9,
   "metadata": {},
   "outputs": [],
   "source": [
    "del all_docs\n",
    "del all_labels"
   ]
  },
  {
   "cell_type": "code",
   "execution_count": 10,
   "metadata": {},
   "outputs": [],
   "source": [
    "def RNN():\n",
    "    inputs = Input(name='inputs', shape=[maxlen])\n",
    "    layer = Embedding(maxwords, 512, input_length=maxlen)(inputs)\n",
    "    layer = LSTM(256)(layer)\n",
    "    layer = Dense(128, name='FC1')(layer)\n",
    "    layer = Activation('relu')(layer)\n",
    "    layer = Dropout(rate = 0.05)(layer) # rate = 1-keep_prob, keep_prob=0.5\n",
    "    layer = Dense(len(categories), name='out_layer')(layer)\n",
    "    layer = Activation('softmax')(layer)\n",
    "    model = Model(inputs=inputs, outputs=layer)\n",
    "    return model"
   ]
  },
  {
   "cell_type": "code",
   "execution_count": 11,
   "metadata": {},
   "outputs": [
    {
     "name": "stdout",
     "output_type": "stream",
     "text": [
      "_________________________________________________________________\n",
      "Layer (type)                 Output Shape              Param #   \n",
      "=================================================================\n",
      "inputs (InputLayer)          (None, 1600)              0         \n",
      "_________________________________________________________________\n",
      "embedding_1 (Embedding)      (None, 1600, 512)         3072000   \n",
      "_________________________________________________________________\n",
      "lstm_1 (LSTM)                (None, 256)               787456    \n",
      "_________________________________________________________________\n",
      "FC1 (Dense)                  (None, 128)               32896     \n",
      "_________________________________________________________________\n",
      "activation_1 (Activation)    (None, 128)               0         \n",
      "_________________________________________________________________\n",
      "dropout_1 (Dropout)          (None, 128)               0         \n",
      "_________________________________________________________________\n",
      "out_layer (Dense)            (None, 90)                11610     \n",
      "_________________________________________________________________\n",
      "activation_2 (Activation)    (None, 90)                0         \n",
      "=================================================================\n",
      "Total params: 3,903,962\n",
      "Trainable params: 3,903,962\n",
      "Non-trainable params: 0\n",
      "_________________________________________________________________\n"
     ]
    }
   ],
   "source": [
    "model = RNN()\n",
    "model.summary()\n",
    "model.compile(loss='categorical_crossentropy', optimizer='adam', metrics=['accuracy'])"
   ]
  },
  {
   "cell_type": "code",
   "execution_count": 12,
   "metadata": {},
   "outputs": [
    {
     "name": "stdout",
     "output_type": "stream",
     "text": [
      "Train on 6041 samples, validate on 2589 samples\n",
      "Epoch 1/25\n",
      "6041/6041 [==============================] - 194s 32ms/step - loss: 4.3245 - acc: 0.3438 - val_loss: 3.4627 - val_acc: 0.3766\n",
      "\n",
      "Epoch 00001: val_loss improved from inf to 3.46267, saving model to model-lstm-8-001-0.343817-0.376593.h5\n",
      "Epoch 2/25\n",
      "6041/6041 [==============================] - 188s 31ms/step - loss: 3.0408 - acc: 0.4625 - val_loss: 2.8386 - val_acc: 0.5033\n",
      "\n",
      "Epoch 00002: val_loss improved from 3.46267 to 2.83863, saving model to model-lstm-8-002-0.462506-0.503283.h5\n",
      "Epoch 3/25\n",
      "6041/6041 [==============================] - 187s 31ms/step - loss: 2.5869 - acc: 0.5536 - val_loss: 2.5918 - val_acc: 0.5693\n",
      "\n",
      "Epoch 00003: val_loss improved from 2.83863 to 2.59176, saving model to model-lstm-8-003-0.553551-0.569332.h5\n",
      "Epoch 4/25\n",
      "6041/6041 [==============================] - 182s 30ms/step - loss: 2.3414 - acc: 0.5956 - val_loss: 2.5954 - val_acc: 0.5639\n",
      "\n",
      "Epoch 00004: val_loss did not improve from 2.59176\n",
      "Epoch 5/25\n",
      "6041/6041 [==============================] - 186s 31ms/step - loss: 2.1862 - acc: 0.6153 - val_loss: 2.4187 - val_acc: 0.6362\n",
      "\n",
      "Epoch 00005: val_loss improved from 2.59176 to 2.41873, saving model to model-lstm-8-005-0.615295-0.636153.h5\n",
      "Epoch 6/25\n",
      "6041/6041 [==============================] - 190s 31ms/step - loss: 2.0608 - acc: 0.6317 - val_loss: 2.6531 - val_acc: 0.5419\n",
      "\n",
      "Epoch 00006: val_loss did not improve from 2.41873\n",
      "Epoch 7/25\n",
      "6041/6041 [==============================] - 186s 31ms/step - loss: 1.9483 - acc: 0.6530 - val_loss: 2.2362 - val_acc: 0.6655\n",
      "\n",
      "Epoch 00007: val_loss improved from 2.41873 to 2.23624, saving model to model-lstm-8-007-0.653038-0.665508.h5\n",
      "Epoch 8/25\n",
      "6041/6041 [==============================] - 186s 31ms/step - loss: 1.6435 - acc: 0.7204 - val_loss: 2.1953 - val_acc: 0.6636\n",
      "\n",
      "Epoch 00008: val_loss improved from 2.23624 to 2.19532, saving model to model-lstm-8-008-0.720411-0.663577.h5\n",
      "Epoch 9/25\n",
      "6041/6041 [==============================] - 183s 30ms/step - loss: 1.5057 - acc: 0.7429 - val_loss: 2.2202 - val_acc: 0.6763\n",
      "\n",
      "Epoch 00009: val_loss did not improve from 2.19532\n",
      "Epoch 10/25\n",
      "6041/6041 [==============================] - 186s 31ms/step - loss: 1.3709 - acc: 0.7643 - val_loss: 2.0417 - val_acc: 0.7088\n",
      "\n",
      "Epoch 00010: val_loss improved from 2.19532 to 2.04171, saving model to model-lstm-8-010-0.764277-0.708768.h5\n",
      "Epoch 11/25\n",
      "6041/6041 [==============================] - 185s 31ms/step - loss: 1.2404 - acc: 0.7939 - val_loss: 2.0514 - val_acc: 0.7084\n",
      "\n",
      "Epoch 00011: val_loss did not improve from 2.04171\n",
      "Epoch 12/25\n",
      "6041/6041 [==============================] - 185s 31ms/step - loss: 1.1544 - acc: 0.8085 - val_loss: 2.0522 - val_acc: 0.7188\n",
      "\n",
      "Epoch 00012: val_loss did not improve from 2.04171\n",
      "Epoch 13/25\n",
      "6041/6041 [==============================] - 184s 30ms/step - loss: 1.1134 - acc: 0.8151 - val_loss: 2.1006 - val_acc: 0.7149\n",
      "\n",
      "Epoch 00013: val_loss did not improve from 2.04171\n",
      "Epoch 14/25\n",
      "6041/6041 [==============================] - 184s 30ms/step - loss: 1.0147 - acc: 0.8278 - val_loss: 2.1299 - val_acc: 0.7285\n",
      "\n",
      "Epoch 00014: val_loss did not improve from 2.04171\n",
      "Epoch 15/25\n",
      "6041/6041 [==============================] - 184s 30ms/step - loss: 0.9466 - acc: 0.8442 - val_loss: 2.1663 - val_acc: 0.7184\n",
      "\n",
      "Epoch 00015: val_loss did not improve from 2.04171\n",
      "Epoch 16/25\n",
      "6041/6041 [==============================] - 186s 31ms/step - loss: 0.8937 - acc: 0.8537 - val_loss: 2.1547 - val_acc: 0.7126\n",
      "\n",
      "Epoch 00016: val_loss did not improve from 2.04171\n",
      "Epoch 17/25\n",
      "6041/6041 [==============================] - 180s 30ms/step - loss: 0.8856 - acc: 0.8525 - val_loss: 2.1936 - val_acc: 0.7316\n",
      "\n",
      "Epoch 00017: val_loss did not improve from 2.04171\n",
      "Epoch 18/25\n",
      "6041/6041 [==============================] - 188s 31ms/step - loss: 0.8269 - acc: 0.8653 - val_loss: 2.1922 - val_acc: 0.7153\n",
      "\n",
      "Epoch 00018: val_loss did not improve from 2.04171\n",
      "Epoch 19/25\n",
      "6041/6041 [==============================] - 189s 31ms/step - loss: 0.8084 - acc: 0.8611 - val_loss: 2.2129 - val_acc: 0.7177\n",
      "\n",
      "Epoch 00019: val_loss did not improve from 2.04171\n",
      "Epoch 20/25\n",
      "6041/6041 [==============================] - 188s 31ms/step - loss: 0.7653 - acc: 0.8729 - val_loss: 2.2469 - val_acc: 0.7292\n",
      "\n",
      "Epoch 00020: val_loss did not improve from 2.04171\n",
      "Epoch 21/25\n",
      "6041/6041 [==============================] - 179s 30ms/step - loss: 0.7116 - acc: 0.8805 - val_loss: 2.2409 - val_acc: 0.7331\n",
      "\n",
      "Epoch 00021: val_loss did not improve from 2.04171\n",
      "Epoch 22/25\n",
      "6041/6041 [==============================] - 171s 28ms/step - loss: 0.6584 - acc: 0.8884 - val_loss: 2.3226 - val_acc: 0.7319\n",
      "\n",
      "Epoch 00022: val_loss did not improve from 2.04171\n",
      "Epoch 23/25\n",
      "6041/6041 [==============================] - 166s 28ms/step - loss: 0.6388 - acc: 0.8980 - val_loss: 2.3880 - val_acc: 0.7339\n",
      "\n",
      "Epoch 00023: val_loss did not improve from 2.04171\n",
      "Epoch 24/25\n",
      "6041/6041 [==============================] - 163s 27ms/step - loss: 0.6382 - acc: 0.8951 - val_loss: 2.3939 - val_acc: 0.7169\n",
      "\n",
      "Epoch 00024: val_loss did not improve from 2.04171\n",
      "Epoch 25/25\n",
      "6041/6041 [==============================] - 164s 27ms/step - loss: 0.6328 - acc: 0.8955 - val_loss: 2.3829 - val_acc: 0.7312\n",
      "\n",
      "Epoch 00025: val_loss did not improve from 2.04171\n"
     ]
    }
   ],
   "source": [
    "checkpoint = ModelCheckpoint('model-lstm-8-{epoch:03d}-{acc:03f}-{val_acc:03f}.h5', \n",
    "                             verbose=1, monitor='val_loss', save_best_only=True, mode='auto')\n",
    "history = model.fit(x_train, y_train, batch_size=256, epochs=25, validation_split=0.3, shuffle=True, callbacks=[checkpoint])"
   ]
  },
  {
   "cell_type": "code",
   "execution_count": 14,
   "metadata": {},
   "outputs": [],
   "source": [
    "# Save Complete Model\n",
    "model.save('tc-nltk-lstm-rnn-8.h5')\n",
    "\n",
    "# Save Model Configuration to JSON\n",
    "model_json = model.to_json()\n",
    "with open('tc-nltk-lstm-rnn-8.json', 'w') as json_file:\n",
    "    json_file.write(model_json)\n",
    "\n",
    "# Load a Saved Model\n",
    "# model = load_model('tc-nltk-lstm-rnn.h5')"
   ]
  },
  {
   "cell_type": "code",
   "execution_count": 15,
   "metadata": {},
   "outputs": [
    {
     "name": "stderr",
     "output_type": "stream",
     "text": [
      "C:\\Anaconda3\\envs\\tensorflow\\lib\\site-packages\\keras\\engine\\saving.py:292: UserWarning: No training configuration found in save file: the model was *not* compiled. Compile it manually.\n",
      "  warnings.warn('No training configuration found in save file: '\n"
     ]
    }
   ],
   "source": [
    "# Load Model Configuration from JSON\n",
    "json_file = open('tc-nltk-lstm-rnn-8.json', 'r')\n",
    "loaded_model_json = json_file.read()\n",
    "json_file.close()\n",
    "loaded_model = model_from_json(loaded_model_json)\n",
    "loaded_model.load_weights('model-lstm-8-010-0.764277-0.708768.h5') # Change before running\n",
    "loaded_model.save('tc-nltk-lstm-rnn-8-weights.hdf5')\n",
    "loaded_model=load_model('tc-nltk-lstm-rnn-8-weights.hdf5')"
   ]
  },
  {
   "cell_type": "code",
   "execution_count": 16,
   "metadata": {},
   "outputs": [
    {
     "name": "stdout",
     "output_type": "stream",
     "text": [
      "2158/2158 [==============================] - 23s 11ms/step\n",
      "\n",
      "Loss: 2.365\tAccuracy: 0.722\n"
     ]
    }
   ],
   "source": [
    "accr = model.evaluate(x_test, y_test, batch_size=256)\n",
    "print()\n",
    "print('Loss: {:0.3f}\\tAccuracy: {:0.3f}'.format(accr[0], accr[1]))"
   ]
  },
  {
   "cell_type": "code",
   "execution_count": 17,
   "metadata": {},
   "outputs": [],
   "source": [
    "# plot_model(model, to_file='tc-nltk-lstm-4-model.png')"
   ]
  },
  {
   "cell_type": "code",
   "execution_count": 18,
   "metadata": {},
   "outputs": [
    {
     "data": {
      "image/png": "[encoded data removed]",
      "text/plain": [
       "<Figure size 432x288 with 1 Axes>"
      ]
     },
     "metadata": {
      "needs_background": "light"
     },
     "output_type": "display_data"
    },
    {
     "data": {
      "image/png": "[encoded data removed]",
      "text/plain": [
       "<Figure size 432x288 with 1 Axes>"
      ]
     },
     "metadata": {
      "needs_background": "light"
     },
     "output_type": "display_data"
    }
   ],
   "source": [
    "# Plot training & validation accuracy values\n",
    "plt.plot(history.history['acc'])\n",
    "plt.plot(history.history['val_acc'])\n",
    "plt.title('Training and Validation Accuracy - LSTM RNN')\n",
    "plt.ylabel('Accuracy')\n",
    "plt.xlabel('Epoch')\n",
    "plt.legend(['Train', 'Test'], loc='upper left')\n",
    "plt.savefig('tc-nltk-lstm-rnn-8-acc.png', dpi=300, pad_inches=0.1)\n",
    "plt.show()\n",
    "\n",
    "# Plot training & validation loss values\n",
    "plt.plot(history.history['loss'])\n",
    "plt.plot(history.history['val_loss'])\n",
    "plt.title('Training and Validation Loss - LSTM RNN')\n",
    "plt.ylabel('Loss')\n",
    "plt.xlabel('Epoch')\n",
    "plt.legend(['Train', 'Test'], loc='upper left')\n",
    "plt.savefig('tc-nltk-lstm-rnn-8-loss.png', dpi=300, pad_inches=0.1)\n",
    "plt.show()"
   ]
  },
  {
   "cell_type": "code",
   "execution_count": null,
   "metadata": {},
   "outputs": [],
   "source": []
  }
 ],
 "metadata": {
  "kernelspec": {
   "display_name": "Python 3",
   "language": "python",
   "name": "python3"
  },
  "language_info": {
   "codemirror_mode": {
    "name": "ipython",
    "version": 3
   },
   "file_extension": ".py",
   "mimetype": "text/x-python",
   "name": "python",
   "nbconvert_exporter": "python",
   "pygments_lexer": "ipython3",
   "version": "3.6.8"
  }
 },
 "nbformat": 4,
 "nbformat_minor": 2
}
