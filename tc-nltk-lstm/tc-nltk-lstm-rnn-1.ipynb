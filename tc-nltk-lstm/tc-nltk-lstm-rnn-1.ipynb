{
 "cells": [
  {
   "cell_type": "code",
   "execution_count": 1,
   "metadata": {},
   "outputs": [],
   "source": [
    "# Text Classification / tc-nltk-lstm-rnn-1.ipynb\n",
    "# Gourav Siddhad\n",
    "# 16-Mar-2019"
   ]
  },
  {
   "cell_type": "code",
   "execution_count": 17,
   "metadata": {},
   "outputs": [
    {
     "name": "stdout",
     "output_type": "stream",
     "text": [
      "Importing Libraries - Done\n"
     ]
    }
   ],
   "source": [
    "print('Importing Libraries', end='')\n",
    "\n",
    "import pandas as pd\n",
    "import numpy as np\n",
    "from numpy.random import seed\n",
    "import re\n",
    "import os\n",
    "import pandas as pd\n",
    "import time\n",
    "\n",
    "import matplotlib.pyplot as plt\n",
    "import seaborn as sns\n",
    "import pydot\n",
    "\n",
    "import nltk\n",
    "from nltk import word_tokenize\n",
    "from nltk.corpus import reuters, stopwords\n",
    "from nltk.stem.porter import PorterStemmer\n",
    "\n",
    "from sklearn.model_selection import train_test_split\n",
    "from sklearn.preprocessing import LabelEncoder\n",
    "\n",
    "from sklearn.feature_extraction.text import TfidfVectorizer, CountVectorizer\n",
    "from sklearn.preprocessing import MultiLabelBinarizer, minmax_scale\n",
    "from sklearn.metrics import accuracy_score, confusion_matrix, roc_curve, auc\n",
    "from sklearn.model_selection import train_test_split\n",
    "\n",
    "from keras.models import Model\n",
    "from keras.layers import LSTM, Activation, Dense, Dropout, Input, Embedding\n",
    "from keras.optimizers import RMSprop\n",
    "from keras.preprocessing.text import Tokenizer\n",
    "from keras.preprocessing import sequence\n",
    "from keras.utils import to_categorical, plot_model\n",
    "from keras.callbacks import EarlyStopping\n",
    "\n",
    "%matplotlib inline\n",
    "\n",
    "from scipy import interp\n",
    "from itertools import cycle\n",
    "\n",
    "print(' - Done')"
   ]
  },
  {
   "cell_type": "code",
   "execution_count": 3,
   "metadata": {},
   "outputs": [
    {
     "name": "stdout",
     "output_type": "stream",
     "text": [
      "Total Documents - 10788\n",
      "Extracting (Id, Docs and Labels) - Done\n",
      "Documents -  10788\n",
      "Labels  -  10788\n",
      "Categories -  90\n"
     ]
    }
   ],
   "source": [
    "documents = reuters.fileids()\n",
    "print('Total Documents -', len(documents))\n",
    "\n",
    "print('Extracting (Id, Docs and Labels)', end='')\n",
    "train_docs_id = list(filter(lambda doc: doc.startswith(\"train\"), documents))\n",
    "test_docs_id = list(filter(lambda doc: doc.startswith(\"test\"), documents))\n",
    "\n",
    "train_docs = [reuters.raw(doc_id) for doc_id in train_docs_id]\n",
    "test_docs = [reuters.raw(doc_id) for doc_id in test_docs_id]\n",
    "all_docs = train_docs\n",
    "all_docs += test_docs\n",
    "\n",
    "train_labels = [reuters.categories(doc_id) for doc_id in train_docs_id]\n",
    "test_labels  = [reuters.categories(doc_id) for doc_id in test_docs_id]\n",
    "all_labels = train_labels\n",
    "all_labels += test_labels\n",
    "print(' - Done')\n",
    "\n",
    "del train_docs\n",
    "del test_docs\n",
    "del train_labels\n",
    "del test_labels\n",
    "\n",
    "print('Documents - ', len(all_docs))\n",
    "print('Labels  - ', len(all_labels))\n",
    "\n",
    "# List of categories\n",
    "categories = reuters.categories()\n",
    "print('Categories - ', len(categories))"
   ]
  },
  {
   "cell_type": "code",
   "execution_count": 4,
   "metadata": {},
   "outputs": [
    {
     "name": "stdout",
     "output_type": "stream",
     "text": [
      "Caching Stop Words - Done\n"
     ]
    }
   ],
   "source": [
    "print('Caching Stop Words', end='')\n",
    "cachedStopWords = stopwords.words(\"english\")\n",
    "print(' - Done')"
   ]
  },
  {
   "cell_type": "code",
   "execution_count": 5,
   "metadata": {},
   "outputs": [
    {
     "name": "stdout",
     "output_type": "stream",
     "text": [
      "Sorting Train:Test Docs - Done\n",
      "Tokenizing - Done\n"
     ]
    }
   ],
   "source": [
    "print('Sorting Train:Test Docs', end='')\n",
    "X_train, X_test, y_train, y_test = train_test_split(all_docs, all_labels, test_size=0.2, random_state=42)\n",
    "print(' - Done')\n",
    "\n",
    "maxwords = 2000\n",
    "\n",
    "print('Tokenizing', end='')\n",
    "tk = Tokenizer(num_words=maxwords)\n",
    "tk.fit_on_texts(X_train)\n",
    "tk.fit_on_texts(X_test)\n",
    "index_list_train = tk.texts_to_sequences(X_train)\n",
    "index_list_test = tk.texts_to_sequences(X_test)\n",
    "print(' - Done')"
   ]
  },
  {
   "cell_type": "code",
   "execution_count": 6,
   "metadata": {},
   "outputs": [
    {
     "name": "stdout",
     "output_type": "stream",
     "text": [
      "1920\n",
      "1920\n"
     ]
    }
   ],
   "source": [
    "# max of index_list_train\n",
    "# max of index_list_test\n",
    "\n",
    "maxlen = 150\n",
    "\n",
    "for i in index_list_train:\n",
    "    if len(i)>maxlen:\n",
    "        maxlen = len(i)\n",
    "print(maxlen)\n",
    "\n",
    "for i in index_list_test:\n",
    "    if len(i)>maxlen:\n",
    "        maxlen = len(i)\n",
    "print(maxlen)"
   ]
  },
  {
   "cell_type": "code",
   "execution_count": 7,
   "metadata": {},
   "outputs": [
    {
     "name": "stdout",
     "output_type": "stream",
     "text": [
      "Padding Sequences - Done\n",
      "Binarizing MultiLabels - Done\n"
     ]
    }
   ],
   "source": [
    "maxlen = 1200\n",
    "\n",
    "print('Padding Sequences', end='')\n",
    "x_train = sequence.pad_sequences(index_list_train, maxlen=maxlen)\n",
    "x_test = sequence.pad_sequences(index_list_test, maxlen=maxlen)\n",
    "print(' - Done')\n",
    "\n",
    "print('Binarizing MultiLabels', end='')\n",
    "lb = MultiLabelBinarizer()\n",
    "y_train = lb.fit_transform(y_train)\n",
    "y_test = lb.transform(y_test)\n",
    "print(' - Done')\n",
    "\n",
    "del all_docs\n",
    "del all_labels"
   ]
  },
  {
   "cell_type": "code",
   "execution_count": 8,
   "metadata": {},
   "outputs": [],
   "source": [
    "def RNN():\n",
    "    inputs = Input(name='inputs', shape=[maxlen])\n",
    "    layer = Embedding(maxwords, 512, input_length=maxlen)(inputs)\n",
    "    layer = LSTM(256)(layer)\n",
    "    layer = Dense(128, name='FC1')(layer)\n",
    "    layer = Activation('relu')(layer)\n",
    "    layer = Dropout(rate = 0.4)(layer)\n",
    "    layer = Dense(len(categories), name='out_layer')(layer)\n",
    "    layer = Activation('softmax')(layer)\n",
    "    model = Model(inputs=inputs, outputs=layer)\n",
    "    return model"
   ]
  },
  {
   "cell_type": "code",
   "execution_count": 9,
   "metadata": {},
   "outputs": [
    {
     "name": "stdout",
     "output_type": "stream",
     "text": [
      "_________________________________________________________________\n",
      "Layer (type)                 Output Shape              Param #   \n",
      "=================================================================\n",
      "inputs (InputLayer)          (None, 1200)              0         \n",
      "_________________________________________________________________\n",
      "embedding_1 (Embedding)      (None, 1200, 512)         1024000   \n",
      "_________________________________________________________________\n",
      "lstm_1 (LSTM)                (None, 256)               787456    \n",
      "_________________________________________________________________\n",
      "FC1 (Dense)                  (None, 128)               32896     \n",
      "_________________________________________________________________\n",
      "activation_1 (Activation)    (None, 128)               0         \n",
      "_________________________________________________________________\n",
      "dropout_1 (Dropout)          (None, 128)               0         \n",
      "_________________________________________________________________\n",
      "out_layer (Dense)            (None, 90)                11610     \n",
      "_________________________________________________________________\n",
      "activation_2 (Activation)    (None, 90)                0         \n",
      "=================================================================\n",
      "Total params: 1,855,962\n",
      "Trainable params: 1,855,962\n",
      "Non-trainable params: 0\n",
      "_________________________________________________________________\n"
     ]
    }
   ],
   "source": [
    "model = RNN()\n",
    "model.summary()\n",
    "model.compile(loss='categorical_crossentropy', optimizer=RMSprop(lr=0.001), metrics=['accuracy'])\n",
    "# model.compile(loss='categorical_crossentropy', optimizer='adam', metrics=['accuracy'])"
   ]
  },
  {
   "cell_type": "code",
   "execution_count": 10,
   "metadata": {},
   "outputs": [
    {
     "name": "stdout",
     "output_type": "stream",
     "text": [
      "Train on 6904 samples, validate on 1726 samples\n",
      "Epoch 1/25\n",
      "6904/6904 [==============================] - 102s 15ms/step - loss: 3.9735 - acc: 0.3705 - val_loss: 3.4911 - val_acc: 0.4229\n",
      "Epoch 2/25\n",
      "6904/6904 [==============================] - 92s 13ms/step - loss: 3.1334 - acc: 0.5007 - val_loss: 2.8432 - val_acc: 0.5394\n",
      "Epoch 3/25\n",
      "6904/6904 [==============================] - 91s 13ms/step - loss: 2.7328 - acc: 0.5576 - val_loss: 2.5400 - val_acc: 0.5939\n",
      "Epoch 4/25\n",
      "6904/6904 [==============================] - 92s 13ms/step - loss: 2.4851 - acc: 0.6160 - val_loss: 2.5334 - val_acc: 0.5736\n",
      "Epoch 5/25\n",
      "6904/6904 [==============================] - 93s 13ms/step - loss: 2.3615 - acc: 0.6140 - val_loss: 2.3390 - val_acc: 0.6315\n",
      "Epoch 6/25\n",
      "6904/6904 [==============================] - 93s 13ms/step - loss: 2.1858 - acc: 0.6375 - val_loss: 2.1344 - val_acc: 0.6593\n",
      "Epoch 7/25\n",
      "6904/6904 [==============================] - 94s 14ms/step - loss: 2.0172 - acc: 0.6709 - val_loss: 2.0725 - val_acc: 0.6767\n",
      "Epoch 8/25\n",
      "6904/6904 [==============================] - 94s 14ms/step - loss: 1.8776 - acc: 0.6905 - val_loss: 2.1287 - val_acc: 0.6750\n",
      "Epoch 9/25\n",
      "6904/6904 [==============================] - 92s 13ms/step - loss: 1.8713 - acc: 0.7031 - val_loss: 1.9742 - val_acc: 0.6999\n",
      "Epoch 10/25\n",
      "6904/6904 [==============================] - 90s 13ms/step - loss: 1.6874 - acc: 0.7222 - val_loss: 1.9171 - val_acc: 0.7196\n",
      "Epoch 11/25\n",
      "6904/6904 [==============================] - 93s 13ms/step - loss: 1.6366 - acc: 0.7293 - val_loss: 1.9017 - val_acc: 0.6895\n",
      "Epoch 12/25\n",
      "6904/6904 [==============================] - 94s 14ms/step - loss: 1.5659 - acc: 0.7444 - val_loss: 2.2069 - val_acc: 0.6506\n",
      "Epoch 13/25\n",
      "6904/6904 [==============================] - 91s 13ms/step - loss: 1.5708 - acc: 0.7457 - val_loss: 1.8555 - val_acc: 0.7346\n",
      "Epoch 14/25\n",
      "6904/6904 [==============================] - 92s 13ms/step - loss: 1.4351 - acc: 0.7614 - val_loss: 1.6898 - val_acc: 0.7399\n",
      "Epoch 15/25\n",
      "6904/6904 [==============================] - 94s 14ms/step - loss: 1.3678 - acc: 0.7751 - val_loss: 1.7580 - val_acc: 0.7289\n",
      "Epoch 16/25\n",
      "6904/6904 [==============================] - 91s 13ms/step - loss: 1.3384 - acc: 0.7816 - val_loss: 1.7685 - val_acc: 0.7433\n",
      "Epoch 17/25\n",
      "6904/6904 [==============================] - 91s 13ms/step - loss: 1.2739 - acc: 0.7930 - val_loss: 1.7158 - val_acc: 0.7207\n",
      "Epoch 18/25\n",
      "6904/6904 [==============================] - 93s 13ms/step - loss: 1.2261 - acc: 0.7975 - val_loss: 1.7037 - val_acc: 0.7428\n",
      "Epoch 19/25\n",
      "6904/6904 [==============================] - 93s 13ms/step - loss: 1.1892 - acc: 0.8037 - val_loss: 1.7562 - val_acc: 0.7509\n",
      "Epoch 20/25\n",
      "6904/6904 [==============================] - 94s 14ms/step - loss: 1.1878 - acc: 0.8072 - val_loss: 1.7693 - val_acc: 0.7526\n",
      "Epoch 21/25\n",
      "6904/6904 [==============================] - 87s 13ms/step - loss: 1.0782 - acc: 0.8226 - val_loss: 1.7563 - val_acc: 0.7254\n",
      "Epoch 22/25\n",
      "6904/6904 [==============================] - 87s 13ms/step - loss: 1.0884 - acc: 0.8234 - val_loss: 1.7000 - val_acc: 0.7520\n",
      "Epoch 23/25\n",
      "6904/6904 [==============================] - 89s 13ms/step - loss: 1.0192 - acc: 0.8333 - val_loss: 1.6534 - val_acc: 0.7410\n",
      "Epoch 24/25\n",
      "6904/6904 [==============================] - 88s 13ms/step - loss: 1.0006 - acc: 0.8336 - val_loss: 1.7417 - val_acc: 0.7607\n",
      "Epoch 25/25\n",
      "6904/6904 [==============================] - 89s 13ms/step - loss: 0.9669 - acc: 0.8363 - val_loss: 1.7851 - val_acc: 0.7561\n"
     ]
    }
   ],
   "source": [
    "history = model.fit(x_train, y_train, batch_size=256, epochs=25, validation_split=0.20, shuffle=True)#, \n",
    "#                     callbacks=[EarlyStopping(monitor='val_loss', patience=5, min_delta=0.0001)])"
   ]
  },
  {
   "cell_type": "code",
   "execution_count": 11,
   "metadata": {},
   "outputs": [],
   "source": [
    "# Save Complete Model\n",
    "model.save('tc-nltk-lstm-rnn-1.h5')\n",
    "\n",
    "# Load a Saved Model\n",
    "# model = load_model('tc-nltk-lstm-rnn.h5')\n",
    "\n",
    "# Delete a model\n",
    "# del model\n",
    "\n",
    "# Save Model Configuration to JSON\n",
    "model_json = model.to_json()\n",
    "with open('tc-nltk-lstm-rnn-1.json', 'w') as json_file:\n",
    "    json_file.write(model_json)\n",
    "model.save_weights('tc-nltk-lstm-rnn-1-weights.h5')\n",
    "\n",
    "# Load Model Configuration from JSON\n",
    "# json_file = open('tc-nltk-lstm-rnn.json', 'r')\n",
    "# loaded_model_json = json_file.read()\n",
    "# json_file.close()\n",
    "# loaded_model = model_from_json(loaded_model_json)\n",
    "# loaded_model.load_weights('tc-nltk-lstm-rnn-weights.h5')\n",
    "# loaded_model.save('tc-nltk-lstm-rnn-weights.hdf5')\n",
    "# loaded_model=load_model('tc-nltk-lstm-rnn-weights.hdf5')"
   ]
  },
  {
   "cell_type": "code",
   "execution_count": 12,
   "metadata": {},
   "outputs": [
    {
     "name": "stdout",
     "output_type": "stream",
     "text": [
      "2158/2158 [==============================] - 55s 26ms/step\n",
      "\n",
      "Loss: 1.993\tAccuracy: 0.751\n"
     ]
    }
   ],
   "source": [
    "accr = model.evaluate(x_test, y_test)\n",
    "print()\n",
    "print('Loss: {:0.3f}\\tAccuracy: {:0.3f}'.format(accr[0], accr[1]))"
   ]
  },
  {
   "cell_type": "code",
   "execution_count": 19,
   "metadata": {},
   "outputs": [],
   "source": [
    "# plot_model(model, to_file='tc-nltk-lstm-1-model.png')"
   ]
  },
  {
   "cell_type": "code",
   "execution_count": 20,
   "metadata": {},
   "outputs": [
    {
     "data": {
      "image/png": "[encoded data removed]",
      "text/plain": [
       "<Figure size 432x288 with 1 Axes>"
      ]
     },
     "metadata": {
      "needs_background": "light"
     },
     "output_type": "display_data"
    },
    {
     "data": {
      "image/png": "[encoded data removed]",
      "text/plain": [
       "<Figure size 432x288 with 1 Axes>"
      ]
     },
     "metadata": {
      "needs_background": "light"
     },
     "output_type": "display_data"
    }
   ],
   "source": [
    "# Plot training & validation accuracy values\n",
    "plt.plot(history.history['acc'])\n",
    "plt.plot(history.history['val_acc'])\n",
    "plt.title('Training and Validation Accuracy - LSTM RNN')\n",
    "plt.ylabel('Accuracy')\n",
    "plt.xlabel('Epoch')\n",
    "plt.legend(['Train', 'Test'], loc='upper left')\n",
    "plt.savefig('tc-nltk-lstm-rnn-1-acc.png', dpi=300, pad_inches=0.1)\n",
    "plt.show()\n",
    "\n",
    "# Plot training & validation loss values\n",
    "plt.plot(history.history['loss'])\n",
    "plt.plot(history.history['val_loss'])\n",
    "plt.title('Training and Validation Loss - LSTM RNN')\n",
    "plt.ylabel('Loss')\n",
    "plt.xlabel('Epoch')\n",
    "plt.legend(['Train', 'Test'], loc='upper left')\n",
    "plt.savefig('tc-nltk-lstm-rnn-1-loss.png', dpi=300, pad_inches=0.1)\n",
    "plt.show()"
   ]
  },
  {
   "cell_type": "code",
   "execution_count": null,
   "metadata": {},
   "outputs": [],
   "source": []
  }
 ],
 "metadata": {
  "kernelspec": {
   "display_name": "Python 3",
   "language": "python",
   "name": "python3"
  },
  "language_info": {
   "codemirror_mode": {
    "name": "ipython",
    "version": 3
   },
   "file_extension": ".py",
   "mimetype": "text/x-python",
   "name": "python",
   "nbconvert_exporter": "python",
   "pygments_lexer": "ipython3",
   "version": "3.6.8"
  }
 },
 "nbformat": 4,
 "nbformat_minor": 2
}
