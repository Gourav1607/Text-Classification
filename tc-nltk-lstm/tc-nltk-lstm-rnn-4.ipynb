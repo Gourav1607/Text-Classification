{
 "cells": [
  {
   "cell_type": "code",
   "execution_count": 1,
   "metadata": {},
   "outputs": [],
   "source": [
    "# Text Classification / tc-nltk-lstm-rnn-4.ipynb\n",
    "# Gourav Siddhad\n",
    "# 22-Mar-2019"
   ]
  },
  {
   "cell_type": "code",
   "execution_count": 2,
   "metadata": {},
   "outputs": [
    {
     "name": "stdout",
     "output_type": "stream",
     "text": [
      "Importing Libraries"
     ]
    },
    {
     "name": "stderr",
     "output_type": "stream",
     "text": [
      "Using TensorFlow backend.\n"
     ]
    },
    {
     "name": "stdout",
     "output_type": "stream",
     "text": [
      " - Done\n"
     ]
    }
   ],
   "source": [
    "print('Importing Libraries', end='')\n",
    "\n",
    "import pandas as pd\n",
    "import numpy as np\n",
    "from numpy.random import seed\n",
    "import re\n",
    "import os\n",
    "import pandas as pd\n",
    "import time\n",
    "\n",
    "import matplotlib.pyplot as plt\n",
    "\n",
    "import seaborn as sns\n",
    "\n",
    "import nltk\n",
    "from nltk import word_tokenize\n",
    "from nltk.corpus import reuters, stopwords\n",
    "from nltk.stem.porter import PorterStemmer\n",
    "\n",
    "from sklearn.model_selection import train_test_split\n",
    "from sklearn.preprocessing import LabelEncoder\n",
    "\n",
    "from sklearn.feature_extraction.text import TfidfVectorizer, CountVectorizer\n",
    "from sklearn.preprocessing import MultiLabelBinarizer, minmax_scale\n",
    "from sklearn.metrics import accuracy_score, confusion_matrix, roc_curve, auc\n",
    "from sklearn.model_selection import train_test_split\n",
    "\n",
    "from keras.models import Model\n",
    "from keras.layers import LSTM, Activation, Dense, Dropout, Input, Embedding\n",
    "from keras.optimizers import RMSprop\n",
    "from keras.preprocessing.text import Tokenizer\n",
    "from keras.preprocessing import sequence\n",
    "from keras.utils import to_categorical, plot_model\n",
    "from keras.callbacks import EarlyStopping, ModelCheckpoint\n",
    "\n",
    "%matplotlib inline\n",
    "\n",
    "from scipy import interp\n",
    "from itertools import cycle\n",
    "\n",
    "print(' - Done')"
   ]
  },
  {
   "cell_type": "code",
   "execution_count": 3,
   "metadata": {},
   "outputs": [
    {
     "name": "stdout",
     "output_type": "stream",
     "text": [
      "Total Documents - 10788\n",
      "Extracting (Id, Docs and Labels) - Done\n",
      "Documents -  10788\n",
      "Labels  -  10788\n",
      "Categories -  90\n"
     ]
    }
   ],
   "source": [
    "documents = reuters.fileids()\n",
    "print('Total Documents -', len(documents))\n",
    "\n",
    "print('Extracting (Id, Docs and Labels)', end='')\n",
    "train_docs_id = list(filter(lambda doc: doc.startswith(\"train\"), documents))\n",
    "test_docs_id = list(filter(lambda doc: doc.startswith(\"test\"), documents))\n",
    "\n",
    "train_docs = [reuters.raw(doc_id) for doc_id in train_docs_id]\n",
    "test_docs = [reuters.raw(doc_id) for doc_id in test_docs_id]\n",
    "all_docs = train_docs\n",
    "all_docs += test_docs\n",
    "\n",
    "train_labels = [reuters.categories(doc_id) for doc_id in train_docs_id]\n",
    "test_labels  = [reuters.categories(doc_id) for doc_id in test_docs_id]\n",
    "all_labels = train_labels\n",
    "all_labels += test_labels\n",
    "print(' - Done')\n",
    "\n",
    "del train_docs\n",
    "del test_docs\n",
    "del train_labels\n",
    "del test_labels\n",
    "\n",
    "print('Documents - ', len(all_docs))\n",
    "print('Labels  - ', len(all_labels))\n",
    "\n",
    "# List of categories\n",
    "categories = reuters.categories()\n",
    "print('Categories - ', len(categories))"
   ]
  },
  {
   "cell_type": "code",
   "execution_count": 4,
   "metadata": {},
   "outputs": [
    {
     "name": "stdout",
     "output_type": "stream",
     "text": [
      "Caching Stop Words - Done\n"
     ]
    }
   ],
   "source": [
    "print('Caching Stop Words', end='')\n",
    "cachedStopWords = stopwords.words(\"english\")\n",
    "print(' - Done')"
   ]
  },
  {
   "cell_type": "code",
   "execution_count": 5,
   "metadata": {},
   "outputs": [
    {
     "name": "stdout",
     "output_type": "stream",
     "text": [
      "Sorting Train:Test Docs - Done\n",
      "Tokenizing - Done\n"
     ]
    }
   ],
   "source": [
    "print('Sorting Train:Test Docs', end='')\n",
    "X_train, X_test, y_train, y_test = train_test_split(all_docs, all_labels, test_size=0.2, random_state=42)\n",
    "print(' - Done')\n",
    "\n",
    "maxwords = 3000\n",
    "\n",
    "print('Tokenizing', end='')\n",
    "tk = Tokenizer(num_words=maxwords)\n",
    "tk.fit_on_texts(X_train)\n",
    "tk.fit_on_texts(X_test)\n",
    "index_list_train = tk.texts_to_sequences(X_train)\n",
    "index_list_test = tk.texts_to_sequences(X_test)\n",
    "print(' - Done')"
   ]
  },
  {
   "cell_type": "code",
   "execution_count": 6,
   "metadata": {},
   "outputs": [
    {
     "name": "stdout",
     "output_type": "stream",
     "text": [
      "2033\n",
      "2033\n"
     ]
    }
   ],
   "source": [
    "# max of index_list_train\n",
    "# max of index_list_test\n",
    "\n",
    "maxlen = 200\n",
    "\n",
    "for i in index_list_train:\n",
    "    if len(i)>maxlen:\n",
    "        maxlen = len(i)\n",
    "print(maxlen)\n",
    "\n",
    "for i in index_list_test:\n",
    "    if len(i)>maxlen:\n",
    "        maxlen = len(i)\n",
    "print(maxlen)"
   ]
  },
  {
   "cell_type": "code",
   "execution_count": 7,
   "metadata": {},
   "outputs": [
    {
     "name": "stdout",
     "output_type": "stream",
     "text": [
      "Padding Sequences - Done\n",
      "Binarizing MultiLabels - Done\n"
     ]
    }
   ],
   "source": [
    "maxlen = 1500\n",
    "\n",
    "print('Padding Sequences', end='')\n",
    "x_train = sequence.pad_sequences(index_list_train, maxlen=maxlen)\n",
    "x_test = sequence.pad_sequences(index_list_test, maxlen=maxlen)\n",
    "print(' - Done')\n",
    "\n",
    "print('Binarizing MultiLabels', end='')\n",
    "lb = MultiLabelBinarizer()\n",
    "y_train = lb.fit_transform(y_train)\n",
    "y_test = lb.transform(y_test)\n",
    "print(' - Done')\n",
    "\n",
    "del all_docs\n",
    "del all_labels"
   ]
  },
  {
   "cell_type": "code",
   "execution_count": 8,
   "metadata": {},
   "outputs": [],
   "source": [
    "def RNN():\n",
    "    inputs = Input(name='inputs', shape=[maxlen])\n",
    "    layer = Embedding(maxwords, 512, input_length=maxlen)(inputs)\n",
    "    layer = LSTM(256)(layer)\n",
    "    layer = Dense(128, name='FC1')(layer)\n",
    "    layer = Activation('relu')(layer)\n",
    "    layer = Dropout(rate = 0.5)(layer) # rate = 1-keep_prob, keep_prob=0.5\n",
    "    layer = Dense(len(categories), name='out_layer')(layer)\n",
    "    layer = Activation('softmax')(layer)\n",
    "    model = Model(inputs=inputs, outputs=layer)\n",
    "    return model"
   ]
  },
  {
   "cell_type": "code",
   "execution_count": 9,
   "metadata": {},
   "outputs": [
    {
     "name": "stdout",
     "output_type": "stream",
     "text": [
      "_________________________________________________________________\n",
      "Layer (type)                 Output Shape              Param #   \n",
      "=================================================================\n",
      "inputs (InputLayer)          (None, 1500)              0         \n",
      "_________________________________________________________________\n",
      "embedding_1 (Embedding)      (None, 1500, 512)         1536000   \n",
      "_________________________________________________________________\n",
      "lstm_1 (LSTM)                (None, 256)               787456    \n",
      "_________________________________________________________________\n",
      "FC1 (Dense)                  (None, 128)               32896     \n",
      "_________________________________________________________________\n",
      "activation_1 (Activation)    (None, 128)               0         \n",
      "_________________________________________________________________\n",
      "dropout_1 (Dropout)          (None, 128)               0         \n",
      "_________________________________________________________________\n",
      "out_layer (Dense)            (None, 90)                11610     \n",
      "_________________________________________________________________\n",
      "activation_2 (Activation)    (None, 90)                0         \n",
      "=================================================================\n",
      "Total params: 2,367,962\n",
      "Trainable params: 2,367,962\n",
      "Non-trainable params: 0\n",
      "_________________________________________________________________\n"
     ]
    }
   ],
   "source": [
    "model = RNN()\n",
    "model.summary()\n",
    "# model.compile(loss='categorical_crossentropy', optimizer=RMSprop(lr=0.001), metrics=['accuracy'])\n",
    "model.compile(loss='categorical_crossentropy', optimizer='adam', metrics=['accuracy'])"
   ]
  },
  {
   "cell_type": "code",
   "execution_count": 10,
   "metadata": {},
   "outputs": [
    {
     "name": "stdout",
     "output_type": "stream",
     "text": [
      "Train on 6904 samples, validate on 1726 samples\n",
      "Epoch 1/25\n",
      "6904/6904 [==============================] - 185s 27ms/step - loss: 4.3686 - acc: 0.3311 - val_loss: 3.4360 - val_acc: 0.4044\n",
      "Epoch 2/25\n",
      "6904/6904 [==============================] - 179s 26ms/step - loss: 3.2168 - acc: 0.4589 - val_loss: 2.8737 - val_acc: 0.5191\n",
      "Epoch 3/25\n",
      "6904/6904 [==============================] - 176s 26ms/step - loss: 2.6927 - acc: 0.5481 - val_loss: 2.6342 - val_acc: 0.5672\n",
      "Epoch 4/25\n",
      "6904/6904 [==============================] - 186s 27ms/step - loss: 2.4353 - acc: 0.6001 - val_loss: 2.4393 - val_acc: 0.5898\n",
      "Epoch 5/25\n",
      "6904/6904 [==============================] - 187s 27ms/step - loss: 2.2082 - acc: 0.6286 - val_loss: 2.1984 - val_acc: 0.6530\n",
      "Epoch 6/25\n",
      "6904/6904 [==============================] - 186s 27ms/step - loss: 1.9777 - acc: 0.6776 - val_loss: 2.1338 - val_acc: 0.6645\n",
      "Epoch 7/25\n",
      "6904/6904 [==============================] - 188s 27ms/step - loss: 1.8555 - acc: 0.6915 - val_loss: 2.0956 - val_acc: 0.6721\n",
      "Epoch 8/25\n",
      "6904/6904 [==============================] - 186s 27ms/step - loss: 1.7981 - acc: 0.6961 - val_loss: 2.1441 - val_acc: 0.6605\n",
      "Epoch 9/25\n",
      "6904/6904 [==============================] - 184s 27ms/step - loss: 1.7224 - acc: 0.7186 - val_loss: 1.9901 - val_acc: 0.6964\n",
      "Epoch 10/25\n",
      "6904/6904 [==============================] - 184s 27ms/step - loss: 1.5750 - acc: 0.7386 - val_loss: 1.9392 - val_acc: 0.6993\n",
      "Epoch 11/25\n",
      "6904/6904 [==============================] - 182s 26ms/step - loss: 1.4770 - acc: 0.7565 - val_loss: 1.8815 - val_acc: 0.7092\n",
      "Epoch 12/25\n",
      "6904/6904 [==============================] - 182s 26ms/step - loss: 1.4251 - acc: 0.7629 - val_loss: 1.9216 - val_acc: 0.7103\n",
      "Epoch 13/25\n",
      "6904/6904 [==============================] - 178s 26ms/step - loss: 1.3814 - acc: 0.7710 - val_loss: 1.9141 - val_acc: 0.7080\n",
      "Epoch 14/25\n",
      "6904/6904 [==============================] - 182s 26ms/step - loss: 1.3312 - acc: 0.7752 - val_loss: 1.8233 - val_acc: 0.7271\n",
      "Epoch 15/25\n",
      "6904/6904 [==============================] - 181s 26ms/step - loss: 1.2689 - acc: 0.7948 - val_loss: 1.8262 - val_acc: 0.7178\n",
      "Epoch 16/25\n",
      "6904/6904 [==============================] - 180s 26ms/step - loss: 1.2282 - acc: 0.7981 - val_loss: 1.8996 - val_acc: 0.7225\n",
      "Epoch 17/25\n",
      "6904/6904 [==============================] - 177s 26ms/step - loss: 1.2122 - acc: 0.7940 - val_loss: 1.9004 - val_acc: 0.7149\n",
      "Epoch 18/25\n",
      "6904/6904 [==============================] - 179s 26ms/step - loss: 1.1864 - acc: 0.7959 - val_loss: 1.9413 - val_acc: 0.7178\n",
      "Epoch 19/25\n",
      "6904/6904 [==============================] - 179s 26ms/step - loss: 1.1311 - acc: 0.8147 - val_loss: 1.8790 - val_acc: 0.7202\n",
      "Epoch 20/25\n",
      "6904/6904 [==============================] - 180s 26ms/step - loss: 1.0661 - acc: 0.8231 - val_loss: 1.8284 - val_acc: 0.7370\n",
      "Epoch 21/25\n",
      "6904/6904 [==============================] - 178s 26ms/step - loss: 1.0183 - acc: 0.8329 - val_loss: 1.8645 - val_acc: 0.7381\n",
      "Epoch 22/25\n",
      "6904/6904 [==============================] - 185s 27ms/step - loss: 1.0849 - acc: 0.8223 - val_loss: 2.0006 - val_acc: 0.7167\n",
      "Epoch 23/25\n",
      "6904/6904 [==============================] - 180s 26ms/step - loss: 1.0490 - acc: 0.8243 - val_loss: 1.9124 - val_acc: 0.7271\n",
      "Epoch 24/25\n",
      "6904/6904 [==============================] - 185s 27ms/step - loss: 0.9831 - acc: 0.8362 - val_loss: 1.8696 - val_acc: 0.7370\n",
      "Epoch 25/25\n",
      "6904/6904 [==============================] - 179s 26ms/step - loss: 0.9358 - acc: 0.8450 - val_loss: 1.8846 - val_acc: 0.7393\n"
     ]
    }
   ],
   "source": [
    "history = model.fit(x_train, y_train, batch_size=256, epochs=25, validation_split=0.20, shuffle=True)#, \n",
    "#                     callbacks=[EarlyStopping(monitor='val_loss', patience=5, min_delta=0.0001)])"
   ]
  },
  {
   "cell_type": "code",
   "execution_count": 11,
   "metadata": {},
   "outputs": [],
   "source": [
    "# Save Complete Model\n",
    "model.save('tc-nltk-lstm-rnn-4.h5')\n",
    "\n",
    "# Load a Saved Model\n",
    "# model = load_model('tc-nltk-lstm-rnn.h5')\n",
    "\n",
    "# Delete a model\n",
    "# del model\n",
    "\n",
    "# Save Model Configuration to JSON\n",
    "model_json = model.to_json()\n",
    "with open('tc-nltk-lstm-rnn-4.json', 'w') as json_file:\n",
    "    json_file.write(model_json)\n",
    "model.save_weights('tc-nltk-lstm-rnn-4-weights.h5')\n",
    "\n",
    "# Load Model Configuration from JSON\n",
    "# json_file = open('tc-nltk-lstm-rnn.json', 'r')\n",
    "# loaded_model_json = json_file.read()\n",
    "# json_file.close()\n",
    "# loaded_model = model_from_json(loaded_model_json)\n",
    "# loaded_model.load_weights('tc-nltk-lstm-rnn-weights.h5')\n",
    "# loaded_model.save('tc-nltk-lstm-rnn-weights.hdf5')\n",
    "# loaded_model=load_model('tc-nltk-lstm-rnn-weights.hdf5')"
   ]
  },
  {
   "cell_type": "code",
   "execution_count": 12,
   "metadata": {},
   "outputs": [
    {
     "name": "stdout",
     "output_type": "stream",
     "text": [
      "2158/2158 [==============================] - 154s 71ms/step\n",
      "\n",
      "Loss: 1.980\tAccuracy: 0.741\n"
     ]
    }
   ],
   "source": [
    "accr = model.evaluate(x_test, y_test)\n",
    "print()\n",
    "print('Loss: {:0.3f}\\tAccuracy: {:0.3f}'.format(accr[0], accr[1]))"
   ]
  },
  {
   "cell_type": "code",
   "execution_count": 13,
   "metadata": {},
   "outputs": [],
   "source": [
    "# plot_model(model, to_file='tc-nltk-lstm-4-model.png')"
   ]
  },
  {
   "cell_type": "code",
   "execution_count": 14,
   "metadata": {},
   "outputs": [
    {
     "data": {
      "image/png": "[encoded data removed]",
      "text/plain": [
       "<Figure size 432x288 with 1 Axes>"
      ]
     },
     "metadata": {
      "needs_background": "light"
     },
     "output_type": "display_data"
    },
    {
     "data": {
      "image/png": "[encoded data removed]",
      "text/plain": [
       "<Figure size 432x288 with 1 Axes>"
      ]
     },
     "metadata": {
      "needs_background": "light"
     },
     "output_type": "display_data"
    }
   ],
   "source": [
    "# Plot training & validation accuracy values\n",
    "plt.plot(history.history['acc'])\n",
    "plt.plot(history.history['val_acc'])\n",
    "plt.title('Training and Validation Accuracy - LSTM RNN')\n",
    "plt.ylabel('Accuracy')\n",
    "plt.xlabel('Epoch')\n",
    "plt.legend(['Train', 'Test'], loc='upper left')\n",
    "plt.savefig('tc-nltk-lstm-rnn-4-acc.png', dpi=300, pad_inches=0.1)\n",
    "plt.show()\n",
    "\n",
    "# Plot training & validation loss values\n",
    "plt.plot(history.history['loss'])\n",
    "plt.plot(history.history['val_loss'])\n",
    "plt.title('Training and Validation Loss - LSTM RNN')\n",
    "plt.ylabel('Loss')\n",
    "plt.xlabel('Epoch')\n",
    "plt.legend(['Train', 'Test'], loc='upper left')\n",
    "plt.savefig('tc-nltk-lstm-rnn-4-loss.png', dpi=300, pad_inches=0.1)\n",
    "plt.show()"
   ]
  },
  {
   "cell_type": "code",
   "execution_count": null,
   "metadata": {},
   "outputs": [],
   "source": []
  }
 ],
 "metadata": {
  "kernelspec": {
   "display_name": "Python 3",
   "language": "python",
   "name": "python3"
  },
  "language_info": {
   "codemirror_mode": {
    "name": "ipython",
    "version": 3
   },
   "file_extension": ".py",
   "mimetype": "text/x-python",
   "name": "python",
   "nbconvert_exporter": "python",
   "pygments_lexer": "ipython3",
   "version": "3.6.8"
  }
 },
 "nbformat": 4,
 "nbformat_minor": 2
}
